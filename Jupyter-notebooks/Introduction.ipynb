{
 "cells": [
  {
   "cell_type": "markdown",
   "metadata": {
    "slideshow": {
     "slide_type": "slide"
    }
   },
   "source": [
    "# General introduction to python\n",
    "Python is one of the most popular and widely used programming language in the world ([source](https://insights.stackoverflow.com/survey/2021#section-most-popular-technologies-programming-scripting-and-markup-languages)). It has application to numerous areas including \n",
    "* web programming, \n",
    "* scripting, \n",
    "* artificial intelligence \n",
    "* scientific computing  \n",
    "* Astronomy and Astrophysics."
   ]
  },
  {
   "cell_type": "markdown",
   "metadata": {
    "slideshow": {
     "slide_type": "slide"
    }
   },
   "source": [
    "The Python language has major advantages - it is ([source](http://www.jb.man.ac.uk/~njj/plan.pdf))\n",
    "* **concise** - One can usually write Python scripts in about a quarter of the length of a C program\n",
    "* **intuitive** - it is very easy to guess what you need to type to do something you want\n",
    "* **scripted** - compilation is not required\n",
    "* **free!!** - you don’t need to spend hundreds of PLN on a licence\n",
    "* **adopted by many users** - if you have a problem, googling “python” followed by your problem usually gets you something useful.\n",
    "* **libraries**- Due to its free and adopted by many users, many basic, and lots of not-so-basic (complicated), functions have already been written by various developer worldwide, leaving you to concentrate on the problem you want to solve"
   ]
  },
  {
   "cell_type": "markdown",
   "metadata": {
    "slideshow": {
     "slide_type": "slide"
    }
   },
   "source": [
    "Let’s see some of the disadvantages of Python ([source](https://www.geeksforgeeks.org/disadvantages-of-python/)) \n",
    "\n",
    "* **Speed**: It has one disadvantage; it’s slower than compiled languages such as Fortran or C. \n",
    "* **Memory Consumption**: For any memory intensive tasks Python is not a good choice. That is why it is not used for that purpose. Python’s memory consumption is also high, due to the flexibility of the data types. \n",
    "* **Runtime Errors**: One of the major drawbacks of this language is that its design has numerous issues.\n",
    "* **Difficulty in Using Other Languages**: The Python lovers become so accustomed to its features and its extensive libraries that they face problem in learning or working on other programming languages. "
   ]
  },
  {
   "cell_type": "markdown",
   "metadata": {},
   "source": [
    "## Reference:\n",
    "* [A short course in Python for astronomers by Neal Jacksons](http://www.jb.man.ac.uk/~njj/plan.pdf)\n",
    "* An execellent course for beginners on basics of python [Data analysis with python zero to pandas](https://jovian.ai/learn/data-analysis-with-python-zero-to-pandas)\n",
    "## Other references:\n",
    "* ([source](https://www.geeksforgeeks.org/disadvantages-of-python/)) "
   ]
  },
  {
   "cell_type": "markdown",
   "metadata": {
    "slideshow": {
     "slide_type": "slide"
    }
   },
   "source": [
    "First we will learn some introduction to python with some basic but very powerful packages then we will slowly move towards Astropy and your projects. We will mostly use `Numpy, Pandas, Matplotlib, Math, Astropy and Aplpy` module.\n",
    " 1. Introduction\n",
    "     1. Numpy\n",
    "     2. Pandas\n",
    "     2. Matplotlib\n",
    " 4. Astropy\n",
    " 5. Projects"
   ]
  },
  {
   "cell_type": "markdown",
   "metadata": {
    "slideshow": {
     "slide_type": "slide"
    }
   },
   "source": [
    "## Basic concepts\n",
    "**Data type:** integer, float,string,complex,boolean. <br>\n",
    "* strigs: text or sentence e.g. I love anime.\n",
    "* integer: numbers which has no decimals e.g. 1, -5 etc\n",
    "* flaots: decimal values e.g. 1.38, -5.98 etc\n",
    "* complex: numbers belongs to complex plane e.g. 3 $\\pm$ 4i etc\n",
    "* boolean: True and false <br>\n",
    "\n",
    "**Artithmatic operation:** Addition, Subtraction, Division, Multiplication, Exponent, quotient and remainder"
   ]
  },
  {
   "cell_type": "markdown",
   "metadata": {
    "slideshow": {
     "slide_type": "slide"
    }
   },
   "source": [
    "**print command** example for various data type: <br>\n",
    "Python easily recognise between integer and float. Declaration of variable is not necessary like C and Fortran.\n",
    "\n",
    "```\n",
    "print('your text will be here')\n",
    "print(variable)\n",
    "print(\"your text is\",variable)\n",
    "\n",
    "#Pythonic way\n",
    "print(\"Your Text {} elements{}.\".format(variable1,variable2))\n",
    "#Non-pythonic way or similar to codes like C and Fortran\n",
    "print(\"Your Text %i elements %s\\t%s\\n\" %(variable1,variable2,variable3))\n",
    "\n",
    "```"
   ]
  },
  {
   "cell_type": "markdown",
   "metadata": {},
   "source": [
    "**Notes**\n",
    "* Anything folllowed by # skipped by the processor\n",
    "* To get help on something write $\\texttt{help(something)}$\n",
    "* What you can do with something write $\\texttt{dir(something)}$\n",
    "* you can import a module by using $\\texttt{import}$ followed by the module name\n",
    "* \" \" or ' ' regarded as white space"
   ]
  },
  {
   "cell_type": "markdown",
   "metadata": {},
   "source": [
    "## String data type and string operation"
   ]
  },
  {
   "cell_type": "code",
   "execution_count": 1,
   "metadata": {
    "slideshow": {
     "slide_type": "slide"
    }
   },
   "outputs": [
    {
     "name": "stdout",
     "output_type": "stream",
     "text": [
      "Hello bash! I am python, talking from other side .\n"
     ]
    }
   ],
   "source": [
    "# Your first program\n",
    "#print a sentence (\"\") or ('')\n",
    "print('Hello bash! I am python, talking from other side .')"
   ]
  },
  {
   "cell_type": "code",
   "execution_count": 2,
   "metadata": {},
   "outputs": [
    {
     "name": "stdout",
     "output_type": "stream",
     "text": [
      "Hi this is POA2 lab\n"
     ]
    }
   ],
   "source": [
    "print('Hi this is POA2 lab')"
   ]
  },
  {
   "cell_type": "code",
   "execution_count": 3,
   "metadata": {},
   "outputs": [
    {
     "name": "stdout",
     "output_type": "stream",
     "text": [
      "printing=\"\"\n"
     ]
    }
   ],
   "source": [
    "print(\"printing=\\\"\\\"\") #print \"\" inside the string use \\"
   ]
  },
  {
   "cell_type": "code",
   "execution_count": 5,
   "metadata": {},
   "outputs": [
    {
     "name": "stdout",
     "output_type": "stream",
     "text": [
      "sagar\"\n"
     ]
    }
   ],
   "source": [
    "print(\"sagar\\\"\")"
   ]
  },
  {
   "cell_type": "code",
   "execution_count": 6,
   "metadata": {},
   "outputs": [
    {
     "name": "stdout",
     "output_type": "stream",
     "text": [
      "\n",
      "Hello! world ,\n",
      " I am python.\n",
      "\n"
     ]
    }
   ],
   "source": [
    "print('\\nHello! world ,\\n I am python.\\n') #print a new line using '\\n'"
   ]
  },
  {
   "cell_type": "code",
   "execution_count": 7,
   "metadata": {},
   "outputs": [
    {
     "name": "stdout",
     "output_type": "stream",
     "text": [
      "radio galaxy\n"
     ]
    }
   ],
   "source": [
    "print(\"radio\" + \" \" +\"galaxy\") #You can perform arithmatic operations on the strings also"
   ]
  },
  {
   "cell_type": "code",
   "execution_count": 9,
   "metadata": {},
   "outputs": [
    {
     "name": "stdout",
     "output_type": "stream",
     "text": [
      "z= Hello\n",
      "x= bash\n",
      "Hello,bash\n",
      "HelloHelloHello\n",
      "222222\n"
     ]
    }
   ],
   "source": [
    "#Variable assign\n",
    "z=\"Hello\"\n",
    "print(\"z=\",z)\n",
    "x=\"bash\"\n",
    "print(\"x=\",x)\n",
    "y=3\n",
    "print(z + \",\" + x)\n",
    "print(z*y)\n",
    "print(6 * \"2\")"
   ]
  },
  {
   "cell_type": "markdown",
   "metadata": {},
   "source": [
    "## Integer and float data type"
   ]
  },
  {
   "cell_type": "code",
   "execution_count": 10,
   "metadata": {
    "scrolled": true
   },
   "outputs": [
    {
     "name": "stdout",
     "output_type": "stream",
     "text": [
      "y= 3\n",
      "w= 2\n",
      "5.0\n",
      "36.0\n",
      "7\n"
     ]
    }
   ],
   "source": [
    "#variable assignment\n",
    "y=3;w=2\n",
    "print(\"y=\",y)\n",
    "print(\"w=\",w)\n",
    "print(float(w) + int(y))\n",
    "a=float(\"3\" + \"4\")\n",
    "print(a+w)\n",
    "b=int(\"3\") + int(\"4\")\n",
    "print(b)"
   ]
  },
  {
   "cell_type": "code",
   "execution_count": 11,
   "metadata": {
    "scrolled": false
   },
   "outputs": [
    {
     "name": "stdout",
     "output_type": "stream",
     "text": [
      "x1= 10\n",
      "y1 3\n",
      "y2= 5\n",
      "x1/y1= 3.3333333333333335 ,quotient= 3 ,remainder= 1 and x1/y2= 2.0\n"
     ]
    }
   ],
   "source": [
    "#Arithmatic operation\n",
    "\n",
    "x1=10\n",
    "print('x1=',x1)\n",
    "y1=3\n",
    "print('y1',y1)\n",
    "y2=5\n",
    "print('y2=',y2)\n",
    "z1=x1/y1\n",
    "z2=x1/y2\n",
    "z3=x1//y1\n",
    "z4=x1%y1\n",
    "print('x1/y1=',z1,',quotient=',z3,',remainder=',z4,'and x1/y2=',z2)"
   ]
  },
  {
   "cell_type": "markdown",
   "metadata": {},
   "source": [
    "# Simple input"
   ]
  },
  {
   "cell_type": "code",
   "execution_count": null,
   "metadata": {},
   "outputs": [],
   "source": [
    "#Input from the terminal can be read into a Python string by input:\n",
    "\n",
    "a= input('type something: ')\n",
    "print (a)"
   ]
  },
  {
   "cell_type": "code",
   "execution_count": 12,
   "metadata": {},
   "outputs": [
    {
     "name": "stdout",
     "output_type": "stream",
     "text": [
      "type something:go to mountain\n"
     ]
    }
   ],
   "source": [
    "b =input('type something:')"
   ]
  },
  {
   "cell_type": "code",
   "execution_count": 13,
   "metadata": {},
   "outputs": [
    {
     "data": {
      "text/plain": [
       "'go to mountain'"
      ]
     },
     "execution_count": 13,
     "metadata": {},
     "output_type": "execute_result"
    }
   ],
   "source": [
    "b"
   ]
  },
  {
   "cell_type": "markdown",
   "metadata": {},
   "source": [
    "## Control structure\n",
    "Four basic control loops are `if-else`,`for`,`while`and`try`"
   ]
  },
  {
   "cell_type": "markdown",
   "metadata": {},
   "source": [
    "## While loop\n",
    "```\n",
    "While loop\n",
    "---------------------------\n",
    "while expression:\n",
    ".\n",
    ".\n",
    ".\n",
    "Body\n",
    "---------------------------\n",
    "```"
   ]
  },
  {
   "cell_type": "code",
   "execution_count": null,
   "metadata": {},
   "outputs": [],
   "source": [
    "while i<=1-:\n",
    "    y=int()"
   ]
  },
  {
   "cell_type": "code",
   "execution_count": 14,
   "metadata": {
    "scrolled": true
   },
   "outputs": [
    {
     "name": "stdout",
     "output_type": "stream",
     "text": [
      "Enter whose multiplication table you want:5\n",
      "5 x 1 = 5\n",
      "5 x 2 = 10\n",
      "5 x 3 = 15\n",
      "5 x 4 = 20\n",
      "5 x 5 = 25\n",
      "5 x 6 = 30\n",
      "5 x 7 = 35\n",
      "5 x 8 = 40\n",
      "5 x 9 = 45\n",
      "5 x 10 = 50\n",
      "End of table\n"
     ]
    }
   ],
   "source": [
    "# Multiplication table\n",
    "\n",
    "x=input(\"Enter whose multiplication table you want:\")\n",
    "i=1\n",
    "while i<=10:\n",
    " y=int(x)*i\n",
    " print(x,\"x\",i,\"=\",y)\n",
    " i+=1\n",
    "print(\"End of table\")"
   ]
  },
  {
   "cell_type": "markdown",
   "metadata": {},
   "source": [
    "## if-elif-else statement\n",
    "```\n",
    "-----------------------\n",
    "if test expression:\n",
    "    Body of if\n",
    " elif test expression:\n",
    "    Body of elif\n",
    " else: \n",
    "    Body of else\n",
    "-----------------------\n",
    "```"
   ]
  },
  {
   "cell_type": "code",
   "execution_count": 15,
   "metadata": {},
   "outputs": [
    {
     "name": "stdout",
     "output_type": "stream",
     "text": [
      "Enter the 1st no: 4.5\n",
      "Enter the 2nd no: 7.1\n",
      "Enter the 3rd no: 8.6\n",
      "Three nos are 4.5 7.1 8.6\n",
      "The largest no among 4.5 , 7.1 , 8.6 is:  8.6\n",
      "Enter to exit\n"
     ]
    },
    {
     "data": {
      "text/plain": [
       "''"
      ]
     },
     "execution_count": 15,
     "metadata": {},
     "output_type": "execute_result"
    }
   ],
   "source": [
    "# Finding greatest among 3 no\n",
    "#neted if\n",
    "x=float(input(\"Enter the 1st no: \"))\n",
    "y=float(input(\"Enter the 2nd no: \"))\n",
    "z=float(input(\"Enter the 3rd no: \"))\n",
    "print(\"Three nos are\",x,y,z)\n",
    "\n",
    "if x>y:\n",
    " if x>z:\n",
    "  print(\"The largest no among\",x,\",\",y,\",\",z,\"is: \",x)\n",
    " else:\n",
    "  print(\"The largest no among\",x,\",\",y,\",\",z,\"is: \",z)\n",
    "else:\n",
    " if y>z:\n",
    "  print(\"The largest no among\",x,\",\",y,\",\",z,\"is: \",y)\n",
    " else:\n",
    "  print(\"The largest no among\",x,\",\",y,\",\",z,\"is: \",z)\n",
    "input(\"Enter to exit\")"
   ]
  },
  {
   "cell_type": "code",
   "execution_count": 16,
   "metadata": {
    "scrolled": true
   },
   "outputs": [
    {
     "name": "stdout",
     "output_type": "stream",
     "text": [
      "give value for x:4\n",
      "x= 4\n",
      "give value for y:5\n",
      "y= 5\n",
      "Not Equal\n",
      "5 greater than 4\n",
      "--------------------------------------\n",
      "Not Equal\n",
      "5 greater than 4\n"
     ]
    }
   ],
   "source": [
    "x=int(input(\"give value for x:\"))\n",
    "print(\"x=\",x)\n",
    "y=int(input(\"give value for y:\"))\n",
    "print(\"y=\",y)\n",
    "\n",
    "\n",
    "if x==y:\n",
    " print(\"Equal\")\n",
    "else:\n",
    " print(\"Not Equal\")\n",
    " if x>y:\n",
    "  print(x,\"greater than \",y)\n",
    " else:\n",
    "  print(y,\"greater than\",x)\n",
    "\n",
    "print(\"--------------------------------------\")\n",
    "\n",
    "if x==y:\n",
    " print(\"Equal\")\n",
    "else:\n",
    " print(\"Not Equal\")\n",
    "if x>y:\n",
    " print(x,\"greater than \",y)\n",
    "else:\n",
    "  print(y,\"greater than\",x)"
   ]
  },
  {
   "cell_type": "markdown",
   "metadata": {},
   "source": [
    "## For loop\n",
    "\n",
    "```\n",
    "for value in list/range:\n",
    "    Body of the for loop\n",
    "```"
   ]
  },
  {
   "cell_type": "code",
   "execution_count": 17,
   "metadata": {},
   "outputs": [
    {
     "name": "stdout",
     "output_type": "stream",
     "text": [
      "hello!\n",
      "world!\n",
      "spam!\n",
      "eggs!\n"
     ]
    }
   ],
   "source": [
    "# For loop\n",
    "list=[\"hello\",\"world\",\"spam\",\"eggs\"]\n",
    "for I in list:\n",
    " print(I+\"!\")"
   ]
  },
  {
   "cell_type": "code",
   "execution_count": 18,
   "metadata": {
    "scrolled": false
   },
   "outputs": [
    {
     "name": "stdout",
     "output_type": "stream",
     "text": [
      "0\n",
      "1\n",
      "2\n",
      "3\n",
      "4\n",
      "5\n",
      "6\n",
      "7\n",
      "8\n",
      "9\n"
     ]
    }
   ],
   "source": [
    "#loop range\n",
    "for i in range(10):\n",
    " #if not i%2==0:\n",
    "  print(i)"
   ]
  },
  {
   "cell_type": "markdown",
   "metadata": {},
   "source": [
    "## try and except\n",
    "```\n",
    "try:\n",
    "  something\n",
    "except\n",
    "  result\n",
    " ```"
   ]
  },
  {
   "cell_type": "code",
   "execution_count": 19,
   "metadata": {},
   "outputs": [
    {
     "ename": "ZeroDivisionError",
     "evalue": "division by zero",
     "output_type": "error",
     "traceback": [
      "\u001b[0;31m---------------------------------------------------------------------------\u001b[0m",
      "\u001b[0;31mZeroDivisionError\u001b[0m                         Traceback (most recent call last)",
      "\u001b[0;32m<ipython-input-19-9e1622b385b6>\u001b[0m in \u001b[0;36m<module>\u001b[0;34m\u001b[0m\n\u001b[0;32m----> 1\u001b[0;31m \u001b[0;36m1\u001b[0m\u001b[0;34m/\u001b[0m\u001b[0;36m0\u001b[0m\u001b[0;34m\u001b[0m\u001b[0;34m\u001b[0m\u001b[0m\n\u001b[0m",
      "\u001b[0;31mZeroDivisionError\u001b[0m: division by zero"
     ]
    }
   ],
   "source": [
    "1/0"
   ]
  },
  {
   "cell_type": "code",
   "execution_count": 20,
   "metadata": {},
   "outputs": [
    {
     "name": "stdout",
     "output_type": "stream",
     "text": [
      "1\n"
     ]
    }
   ],
   "source": [
    "try:\n",
    " print(1/0)\n",
    "except ZeroDivisionError:\n",
    " print(\"1\")"
   ]
  },
  {
   "cell_type": "markdown",
   "metadata": {},
   "source": [
    "# Boolean expressions"
   ]
  },
  {
   "cell_type": "code",
   "execution_count": 21,
   "metadata": {},
   "outputs": [
    {
     "name": "stdout",
     "output_type": "stream",
     "text": [
      "2\n"
     ]
    }
   ],
   "source": [
    "#Boolean expresson\n",
    "if not True:\n",
    " print(\"1\")\n",
    "elif not (1+1==3):\n",
    " print(\"2\")\n",
    "else:\n",
    " print(\"3\")"
   ]
  },
  {
   "cell_type": "code",
   "execution_count": 22,
   "metadata": {},
   "outputs": [
    {
     "name": "stdout",
     "output_type": "stream",
     "text": [
      "Enter value of x:6\n",
      "Enter value of y:7\n",
      "Enter value of z:8\n",
      "Minu\n",
      "Papu\n",
      "AGN\n",
      "Radio Astronomy\n"
     ]
    }
   ],
   "source": [
    "    #Boolean Logic\n",
    "    x=input(\"Enter value of x:\")\n",
    "    y=input(\"Enter value of y:\")\n",
    "    z=input(\"Enter value of z:\")\n",
    "    \"\"\"\n",
    "    != not equals to\n",
    "    <= less than equal to\n",
    "    >= greater than equal to\n",
    "    \n",
    "    and if and only if both expressions are right then only program will execute\n",
    "    and can take two argument at a time\n",
    "    \"\"\"\n",
    "    \n",
    "    if x==y and y>z:\n",
    "     print(\"Sagar\")\n",
    "    else:\n",
    "     print(\"Minu\")\n",
    "    #----------------------------------------------------------------------\n",
    "    #or = if anyone of the expression is right then program will execute\n",
    "    #or can take two argument at a time\n",
    "    if x!=y or y<z:\n",
    "     print(\"Papu\")\n",
    "    else:\n",
    "     print(\"Rinku\")\n",
    "    #-------------------------------------------------------------------------\n",
    "    #not = inverse the argument\n",
    "    #not can take one argument at a time\n",
    "    if not x==y:\n",
    "     print(\"AGN\")\n",
    "    else:\n",
    "     print(\"Radio Astronomy\")\n",
    "\n",
    "    if x==y:\n",
    "     print(\"AGN\")\n",
    "    else:\n",
    "     print(\"Radio Astronomy\")"
   ]
  },
  {
   "cell_type": "markdown",
   "metadata": {},
   "source": [
    "# list\n",
    "These are structures containing several individual pieces of data; you can mix data types\n",
    "within a list. They are declared using square brackets and indexed starting at 0. They can be\n",
    "modified item-by-item.\n",
    "\n",
    "* `listname.append(obj)` is a method, which can insert a new element to the end of the list only.\n",
    "* `listname.insert(arg1,obj` is a method, which can insert a new element at any place of the list so it is taking one argument.arg1= position\n"
   ]
  },
  {
   "cell_type": "code",
   "execution_count": 23,
   "metadata": {
    "scrolled": true
   },
   "outputs": [
    {
     "name": "stdout",
     "output_type": "stream",
     "text": [
      "jack and chris are bestie.\n",
      "jack and sagar are same in class\n",
      "marek is younger brother of jack\n",
      "chrischrischris\n",
      "['jack', 'chris', 'marek', 'sagar']\n"
     ]
    }
   ],
   "source": [
    "#acessing particular element from the list using index\n",
    "names=[\"jack\",\"chris\",\"marek\",\"sagar\"]\n",
    "print(names[0],\"and\",names[1],\"are bestie.\")\n",
    "print(names[0],\"and\",names[3],\"are same in class\")\n",
    "print(names[2],\"is younger brother of\",names[0])\n",
    "x=3\n",
    "print(names[1]*3)\n",
    "print(names)"
   ]
  },
  {
   "cell_type": "code",
   "execution_count": 24,
   "metadata": {},
   "outputs": [
    {
     "name": "stdout",
     "output_type": "stream",
     "text": [
      "leptons = electron muon tau\n",
      "quark = up down top bottom charm strange\n"
     ]
    }
   ],
   "source": [
    "#list inside list\n",
    "particle=[\"leptons\",[\"electron\",\"muon\",\"tau\"],\"quark\",[\"up\",\"down\",\"top\",\"bottom\",\"charm\",\"strange\"]]\n",
    "print(particle[0],\"=\",particle[1][0],particle[1][1],particle[1][2])\n",
    "print(particle[2],\"=\",particle[3][0],particle[3][1],particle[3][2],particle[3][3],particle[3][4],particle[3][5])"
   ]
  },
  {
   "cell_type": "code",
   "execution_count": 27,
   "metadata": {},
   "outputs": [
    {
     "name": "stdout",
     "output_type": "stream",
     "text": [
      "o   l\n"
     ]
    }
   ],
   "source": [
    "# acessing particular position from a string using list\n",
    "str = \"I love astronomy\" \n",
    "print(str[3],str[1],str[2])"
   ]
  },
  {
   "cell_type": "code",
   "execution_count": 28,
   "metadata": {},
   "outputs": [
    {
     "data": {
      "text/plain": [
       "str"
      ]
     },
     "execution_count": 28,
     "metadata": {},
     "output_type": "execute_result"
    }
   ],
   "source": [
    "type(str)"
   ]
  },
  {
   "cell_type": "code",
   "execution_count": 29,
   "metadata": {},
   "outputs": [
    {
     "name": "stdout",
     "output_type": "stream",
     "text": [
      "False\n"
     ]
    }
   ],
   "source": [
    "#checking if given element is present in the list\n",
    "names=[\"jack\",\"chris\",\"marek\",\"sagar\"]\n",
    "print(\"rin\" in names)"
   ]
  },
  {
   "cell_type": "code",
   "execution_count": 30,
   "metadata": {},
   "outputs": [
    {
     "name": "stdout",
     "output_type": "stream",
     "text": [
      "jack and rin are bestie.\n",
      "['jack', 'rin', 'marek', 'sagar']\n",
      "True\n"
     ]
    }
   ],
   "source": [
    "names[1]=\"rin\"\n",
    "print(names[0],\"and\",names[1],\"are bestie.\")\n",
    "print(names)\n",
    "\n",
    "print(\"rin\" in names)"
   ]
  },
  {
   "cell_type": "code",
   "execution_count": 31,
   "metadata": {},
   "outputs": [
    {
     "name": "stdout",
     "output_type": "stream",
     "text": [
      "34.0\n",
      "Fundamental forces are ['Gravitational', 'strong', 'weak']\n",
      "Enter the ramaining force:em\n",
      "Enter where you want to enter:0\n",
      "['em', 'Gravitational', 'strong', 'weak']\n"
     ]
    }
   ],
   "source": [
    "#Another example\n",
    "Forces=[\"Gravitational\",\"strong\",\"weak\"]\n",
    "print(a)\n",
    "print(\"Fundamental forces are\",Forces)\n",
    "y=input(\"Enter the ramaining force:\")\n",
    "x=int(input(\"Enter where you want to enter:\"))\n",
    "Forces.insert(x,y)\n",
    "print(Forces)"
   ]
  },
  {
   "cell_type": "markdown",
   "metadata": {},
   "source": [
    "# Function"
   ]
  },
  {
   "cell_type": "markdown",
   "metadata": {},
   "source": [
    "def name_fun(arg1,arg2):\n",
    "    body function"
   ]
  },
  {
   "cell_type": "code",
   "execution_count": 32,
   "metadata": {},
   "outputs": [
    {
     "name": "stdout",
     "output_type": "stream",
     "text": [
      "put a name:temo\n",
      "temo gobi\n"
     ]
    }
   ],
   "source": [
    "#simple function to join 2 to strings.\n",
    "\n",
    "def letter(i):\n",
    " print(i +\" \"+\"gobi\")\n",
    "\n",
    "x=input(\"put a name:\")\n",
    "letter(x)"
   ]
  },
  {
   "cell_type": "code",
   "execution_count": 34,
   "metadata": {},
   "outputs": [
    {
     "name": "stdout",
     "output_type": "stream",
     "text": [
      "put a no:7\n",
      "9\n"
     ]
    }
   ],
   "source": [
    "#simple function to add 2 to a number.\n",
    "\n",
    "def let(i):\n",
    " print(i+int(2))\n",
    "\n",
    "y=int(input(\"put a no:\"))\n",
    "let(y)"
   ]
  },
  {
   "cell_type": "markdown",
   "metadata": {},
   "source": [
    "## File input and output\n",
    "* `f= open('name of the txt file','mode')` mode = `w, w+, a, a+ ...`\n",
    "* `f.readline()`\n",
    "* `f.write()`\n",
    "* `f.close()`"
   ]
  },
  {
   "cell_type": "code",
   "execution_count": 35,
   "metadata": {},
   "outputs": [],
   "source": [
    "# create a file with write mode\n",
    "f = open('lines.txt', 'w')\n",
    "f.write(\"%s\\t%s\\t%s\\t%s\\t%s\\n\" % ('name','mean','fwhm','fwhm_err','amp'))\n",
    "f.close()"
   ]
  },
  {
   "cell_type": "code",
   "execution_count": 36,
   "metadata": {},
   "outputs": [],
   "source": [
    "#append to the txt file created before\n",
    "name = 'NGC315'\n",
    "mean = 7890\n",
    "fwhm = 30\n",
    "fwhm_err = 2\n",
    "amp = 16\n",
    "\n",
    "f = open('lines.txt', 'a+')\n",
    "    # Append 'new data' in new line\n",
    "f.write(\"%s\\t %f\\t %f\\t %f\\t %f\\n\" %(name,mean,fwhm,fwhm_err,amp))\n",
    "f.write({}\\t{}\\t{}\\t{}\\t{}.format(name,mean,fwhm,fwhm_err,amp))\n",
    "    # Close the file\n",
    "f.close()"
   ]
  },
  {
   "cell_type": "code",
   "execution_count": 39,
   "metadata": {},
   "outputs": [],
   "source": [
    "f = open('lines.txt', 'a+')\n",
    "    # Append 'new data' in new line\n",
    "f.write(\"{}\\t{}\\t{}\\t{}\\t{}\".format(name,mean,fwhm,fwhm_err,amp))\n",
    "    # Close the file\n",
    "f.close()"
   ]
  },
  {
   "cell_type": "code",
   "execution_count": 40,
   "metadata": {},
   "outputs": [
    {
     "name": "stdout",
     "output_type": "stream",
     "text": [
      "['name\\tmean\\tfwhm\\tfwhm_err\\tamp\\n', 'NGC315\\t 7890.000000\\t 30.000000\\t 2.000000\\t 16.000000\\n', 'NGC315\\t7890\\t30\\t2\\t16NGC315\\t7890\\t30\\t2\\t16']\n"
     ]
    }
   ],
   "source": [
    "f = open('lines.txt','r')\n",
    "s = f.readlines()\n",
    "print(s)"
   ]
  },
  {
   "cell_type": "markdown",
   "metadata": {},
   "source": [
    "# Miscellaneous"
   ]
  },
  {
   "cell_type": "code",
   "execution_count": 41,
   "metadata": {},
   "outputs": [
    {
     "name": "stdout",
     "output_type": "stream",
     "text": [
      "input a string: go go yo\n",
      "go go yo\n",
      "Length of the string:' go go yo ':= 8\n"
     ]
    }
   ],
   "source": [
    "#Length of a string using library function\n",
    "c=input(\"input a string: \")\n",
    "print(c)\n",
    "print(\"Length of the string:'\",c,\"':=\",len(c))"
   ]
  },
  {
   "cell_type": "code",
   "execution_count": 42,
   "metadata": {},
   "outputs": [
    {
     "name": "stdout",
     "output_type": "stream",
     "text": [
      "Enter 1st no: 5.5\n",
      "Enter 2nd no: 6.5\n",
      "Enter 3rd no: 8.7\n",
      "Greatest no among 5.500000 6.500000 8.700000 is 8.700000\n"
     ]
    }
   ],
   "source": [
    "# using library function max()\n",
    "a=float(input(\"Enter 1st no: \"))\n",
    "b=float(input(\"Enter 2nd no: \"))\n",
    "c=float(input(\"Enter 3rd no: \"))\n",
    "\n",
    "print(\"Greatest no among %f %f %f is %f\"%(a,b,c,max(a,b,c)))"
   ]
  },
  {
   "cell_type": "code",
   "execution_count": 43,
   "metadata": {},
   "outputs": [
    {
     "name": "stdout",
     "output_type": "stream",
     "text": [
      "4\n",
      "6\n",
      "4\n",
      "6\n",
      "5\n"
     ]
    }
   ],
   "source": [
    "# random generators\n",
    "import random\n",
    "for i in range(5):\n",
    " value= random.randint(4,6)\n",
    " print(value)"
   ]
  },
  {
   "cell_type": "code",
   "execution_count": 44,
   "metadata": {},
   "outputs": [
    {
     "name": "stdout",
     "output_type": "stream",
     "text": [
      "3.141592653589793\n",
      "Enter the radius:5\n",
      "Area= 314.1592653589793\n"
     ]
    }
   ],
   "source": [
    "import math\n",
    "from math import pi\n",
    "print(pi)\n",
    "r=float(input(\"Enter the radius:\"))\n",
    "z=4*pi*r**2\n",
    "print(\"Area=\",z)"
   ]
  },
  {
   "cell_type": "code",
   "execution_count": null,
   "metadata": {},
   "outputs": [],
   "source": []
  }
 ],
 "metadata": {
  "kernelspec": {
   "display_name": "Python 3",
   "language": "python",
   "name": "python3"
  },
  "language_info": {
   "codemirror_mode": {
    "name": "ipython",
    "version": 3
   },
   "file_extension": ".py",
   "mimetype": "text/x-python",
   "name": "python",
   "nbconvert_exporter": "python",
   "pygments_lexer": "ipython3",
   "version": "3.7.3"
  }
 },
 "nbformat": 4,
 "nbformat_minor": 2
}
