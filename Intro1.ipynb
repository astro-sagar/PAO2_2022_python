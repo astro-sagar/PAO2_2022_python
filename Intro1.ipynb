{
 "cells": [
  {
   "cell_type": "code",
   "execution_count": null,
   "metadata": {},
   "outputs": [],
   "source": []
  },
  {
   "cell_type": "markdown",
   "metadata": {},
   "source": [
    "# Introduction\n",
    "### First we will learn some introduction to python with some basic but very powerful packages then we will slowly move towards Astropy and your projects.\n",
    " 1. Numpy\n",
    " 2. Matplotlib\n",
    " 3. Scipy\n",
    " 4. Astropy\n",
    " 5. Projects"
   ]
  },
  {
   "cell_type": "code",
   "execution_count": 1,
   "metadata": {},
   "outputs": [
    {
     "name": "stdout",
     "output_type": "stream",
     "text": [
      "I am Jack\n",
      "I am sagar\n",
      "Hello! world , I am flying.\n",
      "Minu is sagar's best friend\n",
      "z= sagar\n",
      "x= papu\n",
      "sagar,papu\n",
      "printing=\"\"\n",
      "Hello! world ,\n",
      " I am comning.\n",
      "print(\"print\")\n",
      "minu,rinku\n",
      "y= 3\n",
      "w= 2\n",
      "sagarsagarsagar\n",
      "babubabubabu\n",
      "222\n",
      "222222\n",
      "5.0\n",
      "36.0\n",
      "7\n"
     ]
    }
   ],
   "source": [
    "# \"print\" command used for printing/output\n",
    "#syntax print('write_here')\n",
    "print('I am Jack')\n",
    "print(\"I am sagar\")\n",
    "print('Hello! world , I am flying.')\n",
    "print('Minu is sagar\\'s best friend')\n",
    "z=\"sagar\"\n",
    "print(\"z=\",z)\n",
    "x=\"papu\"\n",
    "print(\"x=\",x)\n",
    "print(z + \",\" + x)\n",
    "print(\"printing=\\\"\\\"\")\n",
    "print('Hello! world ,\\n I am comning.')\n",
    "print('print(\"print\")')\n",
    "print(\"minu\" + \",\" +\"rinku\")\n",
    "y=3;w=2\n",
    "print(\"y=\",y)\n",
    "print(\"w=\",w)\n",
    "print(z*y)\n",
    "print(\"babu\" * y)\n",
    "print(\"2\" * y)\n",
    "print(6 * \"2\")\n",
    "print(float(w) + int(y))\n",
    "a=float(\"3\" + \"4\")\n",
    "print(a+w)\n",
    "b=int(\"3\") + int(\"4\")\n",
    "print(b)"
   ]
  },
  {
   "cell_type": "code",
   "execution_count": 3,
   "metadata": {},
   "outputs": [
    {
     "name": "stdout",
     "output_type": "stream",
     "text": [
      "input a string: dsa\n",
      "dsa\n",
      "Length of the string: dsa := 3\n"
     ]
    }
   ],
   "source": [
    "#Length of a string using library function\n",
    "c=input(\"input a string: \")\n",
    "print(c)\n",
    "print(\"Length of the string:\",c,\":=\",len(c))"
   ]
  },
  {
   "cell_type": "code",
   "execution_count": 4,
   "metadata": {
    "scrolled": true
   },
   "outputs": [
    {
     "name": "stdout",
     "output_type": "stream",
     "text": [
      "Enter the 1st no: 6\n",
      "Enter the 2nd no: 8\n",
      "Enter the 3rd no: 9\n",
      "Three nos are 6.0 8.0 9.0\n",
      "The largest no among 6.0 , 8.0 , 9.0 is:  9.0\n",
      "Enter to exit\n"
     ]
    },
    {
     "data": {
      "text/plain": [
       "''"
      ]
     },
     "execution_count": 4,
     "metadata": {},
     "output_type": "execute_result"
    }
   ],
   "source": [
    "#Finding greatest among 3 no\n",
    "#neted if\n",
    "x=float(input(\"Enter the 1st no: \"))\n",
    "y=float(input(\"Enter the 2nd no: \"))\n",
    "z=float(input(\"Enter the 3rd no: \"))\n",
    "print(\"Three nos are\",x,y,z)\n",
    "\n",
    "if x>y:\n",
    " if x>z:\n",
    "  print(\"The largest no among\",x,\",\",y,\",\",z,\"is: \",x)\n",
    " else:\n",
    "  print(\"The largest no among\",x,\",\",y,\",\",z,\"is: \",z)\n",
    "else:\n",
    " if y>z:\n",
    "  print(\"The largest no among\",x,\",\",y,\",\",z,\"is: \",y)\n",
    " else:\n",
    "  print(\"The largest no among\",x,\",\",y,\",\",z,\"is: \",z)\n",
    "input(\"Enter to exit\")"
   ]
  },
  {
   "cell_type": "code",
   "execution_count": 34,
   "metadata": {},
   "outputs": [
    {
     "name": "stdout",
     "output_type": "stream",
     "text": [
      "Enter 1st no: 7\n",
      "Enter 2nd no: 8.3\n",
      "Enter 3rd no: 9.6\n",
      "Greatest no among 7.000000 8.300000 9.600000 is 9.600000\n"
     ]
    }
   ],
   "source": [
    "a=float(input(\"Enter 1st no: \"))\n",
    "b=float(input(\"Enter 2nd no: \"))\n",
    "c=float(input(\"Enter 3rd no: \"))\n",
    "\n",
    "print(\"Greatest no among %f %f %f is %f\"%(a,b,c,max(a,b,c)))"
   ]
  },
  {
   "cell_type": "code",
   "execution_count": 15,
   "metadata": {},
   "outputs": [
    {
     "name": "stdout",
     "output_type": "stream",
     "text": [
      "Enter whose multiplication table you want:90\n",
      "90 x 1 = 90\n",
      "90 x 2 = 180\n",
      "90 x 3 = 270\n",
      "90 x 4 = 360\n",
      "90 x 5 = 450\n",
      "90 x 6 = 540\n",
      "90 x 7 = 630\n",
      "90 x 8 = 720\n",
      "90 x 9 = 810\n",
      "90 x 10 = 900\n",
      "End of table\n"
     ]
    }
   ],
   "source": [
    "# While loop\n",
    "#---------------------------\n",
    "# while expression:\n",
    "#  .\n",
    "#  .\n",
    "#  .\n",
    "#  Body\n",
    "#---------------------------\n",
    "# Multiplication table\n",
    "\n",
    "x=input(\"Enter whose multiplication table you want:\")\n",
    "i=1\n",
    "while i<=10:\n",
    " y=int(x)*i\n",
    " print(x,\"x\",i,\"=\",y)\n",
    " i+=1\n",
    "print(\"End of table\")"
   ]
  },
  {
   "cell_type": "code",
   "execution_count": 7,
   "metadata": {
    "scrolled": true
   },
   "outputs": [
    {
     "name": "stdout",
     "output_type": "stream",
     "text": [
      "Give the no you want to create table or enter 0 to quit: 7\n",
      "7 x 1 = 7\n",
      "7 x 2 = 14\n",
      "7 x 3 = 21\n",
      "7 x 4 = 28\n",
      "7 x 5 = 35\n",
      "7 x 6 = 42\n",
      "7 x 7 = 49\n",
      "7 x 8 = 56\n",
      "7 x 9 = 63\n",
      "7 x 10 = 70\n"
     ]
    }
   ],
   "source": [
    "# Multiplication table by looping(while)\n",
    "N=int(input(\"Give the no you want to create table or enter 0 to quit: \"))\n",
    "I=1\n",
    "#R=int(input(\"Give the up to which you need table: \")\n",
    "#while N !=0:\n",
    "while I<=10:\n",
    "  P=N*I\n",
    "  print(N,\"x\",I,\"=\",P)\n",
    "  I=I+1"
   ]
  },
  {
   "cell_type": "code",
   "execution_count": 8,
   "metadata": {},
   "outputs": [
    {
     "name": "stdout",
     "output_type": "stream",
     "text": [
      "x1= 10\n",
      "y1 3\n",
      "y2= 5\n",
      "x1/y1= 3.3333333333333335 ,quotient= 3 ,remainder= 1 and x1/y2= 2.0\n"
     ]
    }
   ],
   "source": [
    "import math\n",
    "x1=10\n",
    "print('x1=',x1)\n",
    "y1=3\n",
    "print('y1',y1)\n",
    "y2=5\n",
    "print('y2=',y2)\n",
    "z1=x1/y1\n",
    "z2=x1/y2\n",
    "z3=x1//y1\n",
    "z4=x1%y1\n",
    "print('x1/y1=',z1,',quotient=',z3,',remainder=',z4,'and x1/y2=',z2)"
   ]
  },
  {
   "cell_type": "code",
   "execution_count": 9,
   "metadata": {},
   "outputs": [
    {
     "name": "stdout",
     "output_type": "stream",
     "text": [
      "enter:\n"
     ]
    },
    {
     "data": {
      "text/plain": [
       "''"
      ]
     },
     "execution_count": 9,
     "metadata": {},
     "output_type": "execute_result"
    }
   ],
   "source": [
    "input(\"enter:\")\n",
    "#input x\n",
    "#print(x)"
   ]
  },
  {
   "cell_type": "code",
   "execution_count": 12,
   "metadata": {},
   "outputs": [
    {
     "name": "stdout",
     "output_type": "stream",
     "text": [
      "give value for x:7\n",
      "x= 7\n",
      "give value for y:8\n",
      "y= 8\n",
      "8 greater than 7\n",
      "End of program\n"
     ]
    }
   ],
   "source": [
    "x=input(\"give value for x:\")\n",
    "print(\"x=\",x)\n",
    "y=input(\"give value for y:\")\n",
    "print(\"y=\",y)\n",
    "if x>y:\n",
    " print(x,\"greater than y\",y)\n",
    "else:\n",
    " print(y,\"greater than\",x)\n",
    "\n",
    "print(\"End of program\")"
   ]
  },
  {
   "cell_type": "code",
   "execution_count": 13,
   "metadata": {},
   "outputs": [
    {
     "name": "stdout",
     "output_type": "stream",
     "text": [
      "give value for x:8\n",
      "x= 8\n",
      "give value for y:0\n",
      "y= 0\n",
      "Not Equal\n",
      "8 greater than  0\n",
      "--------------------------------------\n",
      "Not Equal\n",
      "8 greater than  0\n"
     ]
    }
   ],
   "source": [
    "x=int(input(\"give value for x:\"))\n",
    "print(\"x=\",x)\n",
    "y=int(input(\"give value for y:\"))\n",
    "print(\"y=\",y)\n",
    "\n",
    "\n",
    "if x==y:\n",
    " print(\"Equal\")\n",
    "else:\n",
    " print(\"Not Equal\")\n",
    " if x>y:\n",
    "  print(x,\"greater than \",y)\n",
    " else:\n",
    "  print(y,\"greater than\",x)\n",
    "\n",
    "print(\"--------------------------------------\")\n",
    "\n",
    "if x==y:\n",
    " print(\"Equal\")\n",
    "else:\n",
    " print(\"Not Equal\")\n",
    "if x>y:\n",
    " print(x,\"greater than \",y)\n",
    "else:\n",
    "  print(y,\"greater than\",x)"
   ]
  },
  {
   "cell_type": "code",
   "execution_count": 14,
   "metadata": {},
   "outputs": [
    {
     "name": "stdout",
     "output_type": "stream",
     "text": [
      "2\n"
     ]
    }
   ],
   "source": [
    "if not True:\n",
    " print(\"1\")\n",
    "elif not (1+1==3):\n",
    " print(\"2\")\n",
    "else:\n",
    " print(\"3\")"
   ]
  },
  {
   "cell_type": "code",
   "execution_count": 16,
   "metadata": {},
   "outputs": [
    {
     "name": "stdout",
     "output_type": "stream",
     "text": [
      "sagar and minu are bestie.\n",
      "sagar and akash are same in color\n",
      "babu is younger brother of sagar\n",
      "minuminuminu\n",
      "['sagar', 'minu', 'babu', 'akash']\n",
      "[]\n",
      "leptons = electron muon tau\n",
      "quark = up down top bottom charm strange\n",
      "o   l\n",
      "True\n",
      "sagar and rinku are bestie.\n",
      "['sagar', 'rinku', 'babu', 'akash']\n",
      "False\n"
     ]
    }
   ],
   "source": [
    "#list\n",
    "names=[\"sagar\",\"minu\",\"babu\",\"akash\"]\n",
    "print(names[0],\"and\",names[1],\"are bestie.\")\n",
    "print(names[0],\"and\",names[3],\"are same in color\")\n",
    "print(names[2],\"is younger brother of\",names[0])\n",
    "x=3\n",
    "print(names[1]*3)\n",
    "print(names)\n",
    "achieve=[]\n",
    "print(achieve)\n",
    "\n",
    "particle=[\"leptons\",[\"electron\",\"muon\",\"tau\"],\"quark\",[\"up\",\"down\",\"top\",\"bottom\",\"charm\",\"strange\"]]\n",
    "print(particle[0],\"=\",particle[1][0],particle[1][1],particle[1][2])\n",
    "print(particle[2],\"=\",particle[3][0],particle[3][1],particle[3][2],particle[3][3],particle[3][4],particle[3][5])\n",
    "\n",
    "str= \"I love astronomy\" \n",
    "print(str[3],str[1],str[2])\n",
    "\n",
    "\n",
    "print(\"minu\" in names)\n",
    "names[1]=\"rinku\"\n",
    "print(names[0],\"and\",names[1],\"are bestie.\")\n",
    "print(names)\n",
    "\n",
    "print(\"minu\" in names)"
   ]
  },
  {
   "cell_type": "code",
   "execution_count": 20,
   "metadata": {},
   "outputs": [
    {
     "name": "stdout",
     "output_type": "stream",
     "text": [
      "Enter the line to calculate no of string:gh\n",
      "2\n",
      "gh\n",
      "Fundamental forces are ['Gravitational', 'strong', 'weak']\n",
      "Enter the ramaining force:em\n",
      "Enter where you want to enter:2\n",
      "['Gravitational', 'strong', 'em', 'weak']\n"
     ]
    }
   ],
   "source": [
    "#list functions\n",
    "#(.append) is a method, which can insert a new element to the end of the list only.\n",
    "#syntax \n",
    "#listname.append(obj)\n",
    "#\n",
    "#(.insert) is a method, which can insert a new element at any place of the list so it is taking one argument.\n",
    "# syntax \n",
    "#listname.insert(arg1,obj)\n",
    "#arg1= position\n",
    "#--------------------------------------------------------------------\n",
    "a=input(\"Enter the line to calculate no of string:\")\n",
    "print(len(a))\n",
    "\n",
    "Forces=[\"Gravitational\",\"strong\",\"weak\"]\n",
    "print(a)\n",
    "print(\"Fundamental forces are\",Forces)\n",
    "y=input(\"Enter the ramaining force:\")\n",
    "x=int(input(\"Enter where you want to enter:\"))\n",
    "Forces.insert(x,y)\n",
    "print(Forces)"
   ]
  },
  {
   "cell_type": "code",
   "execution_count": null,
   "metadata": {},
   "outputs": [],
   "source": [
    "#loop range\n",
    "list=[\"hello\",\"world\",\"spam\",\"eggs\"]\n",
    "for I in list:\n",
    " print(I+\"!\")\n",
    "\n",
    "list=[\"hello\",\"world\",\"spam\",\"eggs\"]\n",
    "for I in range(5):\n",
    " print(\"I\"+\"!\")\n",
    "\n",
    "for i in range(10):\n",
    " #if not i%2==0:\n",
    "  print(i)"
   ]
  },
  {
   "cell_type": "code",
   "execution_count": 22,
   "metadata": {},
   "outputs": [
    {
     "name": "stdout",
     "output_type": "stream",
     "text": [
      "Options:\n",
      "Enter 'add' to add two number.\n",
      "Enter 'subtract' to subtract two number.\n",
      "Enter 'multiply' to multiply two number.\n",
      "Enter 'division' to divide two number.\n",
      "Enter 'power' to calculate power\n",
      "Enter 'quit' to quit to end the program.\n",
      "Enter:power\n",
      "Enter Two number\n",
      "Enter exponent:5\n",
      "Enter no:5\n",
      "The answer is 3125.0\n"
     ]
    }
   ],
   "source": [
    "# Simple calculator\n",
    "while True:\n",
    " print(\"Options:\")\n",
    " print(\"Enter 'add' to add two number.\")\n",
    " print(\"Enter 'subtract' to subtract two number.\")\n",
    " print(\"Enter 'multiply' to multiply two number.\")\n",
    " print(\"Enter 'division' to divide two number.\")\n",
    " print(\"Enter 'power' to calculate power\")\n",
    " print(\"Enter 'quit' to quit to end the program.\")\n",
    " user=input(\"Enter:\")\n",
    "\n",
    " if user == \"quit\":\n",
    "  break\n",
    "#--------------------------------------\n",
    " elif user == \"add\":\n",
    "  print(\"Enter Two number\")\n",
    "  num1 = float(input(\"Enter 1st no:\"))\n",
    "  num2 = float(input(\"Enter 2nd no:\"))\n",
    "  result=(num1+num2)\n",
    "  print(\"The answer is\",result)\n",
    "#--------------------------------------\n",
    " elif user == \"subtract\":\n",
    "  print(\"Enter Two number\")\n",
    "  num1=float(input(\"Enter 1st no:\"))\n",
    "  num2=float(input(\"Enter 2nd no:\"))\n",
    "  result=(num1-num2)\n",
    "  print(\"The answer is\",result)\n",
    "#---------------------------------------\n",
    " elif user == \"multiply\":\n",
    "  print(\"Enter Two number\")\n",
    "  num1=float(input(\"Enter 1st no:\"))\n",
    "  num2=float(input(\"Enter 2nd no:\"))\n",
    "  result=(num1*num2)\n",
    "  print(\"The answer is\",result)\n",
    "#-----------------------------------------\n",
    " elif user == \"division\":\n",
    "  print(\"Enter Two number\")\n",
    "  num1=float(input(\"Enter 1st no:\"))\n",
    "  num2=float(input(\"Enter 2nd no:\"))\n",
    "  result=(num1/num2)\n",
    "  print(\"The answer is\",result)\n",
    "#----------------------------------------\n",
    " elif user == \"power\":\n",
    "  print(\"Enter Two number\")\n",
    "  num1=float(input(\"Enter exponent:\"))\n",
    "  num2=float(input(\"Enter no:\"))\n",
    "  result=(num2**num1)\n",
    "  print(\"The answer is\",result)\n",
    " else:\n",
    "  print(\"Unknown input\")\n",
    " break\n",
    "\n"
   ]
  },
  {
   "cell_type": "code",
   "execution_count": null,
   "metadata": {},
   "outputs": [],
   "source": [
    "\"\"\"\n",
    "Argument of functions\n",
    "\n",
    "\"\"\"\n",
    "def letter(i):\n",
    " print(i +\" \"+\"sagar\")\n",
    "\n",
    "x=input(\"put a name:\")\n",
    "letter(x)\n",
    "\n",
    "def let(i):\n",
    " print(i+int(2))\n",
    "y=int(input(\"put a no:\"))\n",
    "let(y)"
   ]
  },
  {
   "cell_type": "code",
   "execution_count": 23,
   "metadata": {},
   "outputs": [
    {
     "name": "stdout",
     "output_type": "stream",
     "text": [
      "Enter value of x:5\n",
      "Enter value of y:6\n",
      "Enter value of z:7\n",
      "Minu\n",
      "Papu\n",
      "AGN\n",
      "Radio Astronomy\n"
     ]
    }
   ],
   "source": [
    "#Boolean Logic\n",
    "x=input(\"Enter value of x:\")\n",
    "y=input(\"Enter value of y:\")\n",
    "z=input(\"Enter value of z:\")\n",
    "\"\"\"\n",
    "!= not equals to\n",
    "<= less than equal to\n",
    ">= greater than equal to\n",
    "and= if and only if both expressions are right then only program will execute\n",
    "and can take two argument at a time\n",
    "\"\"\"\n",
    "if x==y and y>z:\n",
    " print(\"Sagar\")\n",
    "else:\n",
    " print(\"Minu\")\n",
    "#----------------------------------------------------------------------\n",
    "#or = if anyone of the expression is right then program will execute\n",
    "#or can take two argument at a time\n",
    "if x!=y or y<z:\n",
    " print(\"Papu\")\n",
    "else:\n",
    " print(\"Rinku\")\n",
    "#-------------------------------------------------------------------------\n",
    "#not = inverse the argument\n",
    "#not can take one argument at a time\n",
    "if not x==y:\n",
    " print(\"AGN\")\n",
    "else:\n",
    " print(\"Radio Astronomy\")\n",
    "\n",
    "if x==y:\n",
    " print(\"AGN\")\n",
    "else:\n",
    " print(\"Radio Astronomy\")"
   ]
  },
  {
   "cell_type": "code",
   "execution_count": 24,
   "metadata": {},
   "outputs": [
    {
     "name": "stdout",
     "output_type": "stream",
     "text": [
      "6\n",
      "6\n",
      "6\n",
      "6\n",
      "5\n",
      "3.141592653589793\n",
      "Enter the radius:7\n",
      "Area= 615.7521601035994\n",
      "1\n"
     ]
    }
   ],
   "source": [
    "import random\n",
    "for i in range(5):\n",
    " value= random.randint(4,6)\n",
    " print(value)\n",
    "\n",
    "import math\n",
    "from math import pi\n",
    "print(pi)\n",
    "r=float(input(\"Enter the radius:\"))\n",
    "z=4*pi*r**2\n",
    "print(\"Area=\",z)\n",
    "\n",
    "try:\n",
    " print(1/0)\n",
    "except ZeroDivisionError:\n",
    " print(\"1\")"
   ]
  },
  {
   "cell_type": "code",
   "execution_count": 25,
   "metadata": {},
   "outputs": [
    {
     "name": "stdout",
     "output_type": "stream",
     "text": [
      "Please put the telescope name: VLA\n",
      "Please input Diameter/Longest Baseline of telescope in Kilometer: 25\n",
      "25 KM\n",
      "Please input frequency in Mega Hertz: 650\n",
      "650 MHz\n",
      "lambda= 46.15384615384615 cm\n",
      "********************************************\n",
      "For VLA the resolution of the telescope is: \n",
      "4 arc sec   at 650 MHz\n",
      "********************************************\n",
      "press enter to exit\n"
     ]
    },
    {
     "data": {
      "text/plain": [
       "''"
      ]
     },
     "execution_count": 25,
     "metadata": {},
     "output_type": "execute_result"
    }
   ],
   "source": [
    "#Resolution of a telescope\n",
    "#Using Theta=(1.22xlambda)/Diameter\n",
    "#c=Speed of light\n",
    "#Formula=(1.22*c*180*3600)//(pow(10,9)*3.14*D*v)\n",
    "\n",
    "\n",
    "c=3*pow(10,8)\n",
    "T=input(\"Please put the telescope name: \")\n",
    "\n",
    "D=int(input(\"Please input Diameter/Longest Baseline of telescope in Kilometer: \"))\n",
    "print(D,\"KM\")\n",
    "\n",
    "v=int(input(\"Please input frequency in Mega Hertz: \"))\n",
    "print(v,\"MHz\")\n",
    "\n",
    "l=c/(v*pow(10,6))\n",
    "\n",
    "if (l<1.0):\n",
    " l=l*100\n",
    " print(\"lambda=\",l,\"cm\")\n",
    "else:\n",
    " print(\"lambda=\",l,\"m\")\n",
    "\n",
    "print(\"********************************************\")\n",
    "print(\"For\",T,\"the resolution of the telescope is: \")\n",
    "Theta=int((1.22*c*180*3600)//(pow(10,9)*3.14*D*v))\n",
    "print(Theta,\"arc sec   at\",v,\"MHz\")\n",
    "print(\"********************************************\")\n",
    "input(\"press enter to exit\")"
   ]
  },
  {
   "cell_type": "code",
   "execution_count": 28,
   "metadata": {},
   "outputs": [
    {
     "ename": "FileNotFoundError",
     "evalue": "[Errno 2] No such file or directory: 'file'",
     "output_type": "error",
     "traceback": [
      "\u001b[0;31m---------------------------------------------------------------------------\u001b[0m",
      "\u001b[0;31mFileNotFoundError\u001b[0m                         Traceback (most recent call last)",
      "\u001b[0;32m<ipython-input-28-52f85b0e740e>\u001b[0m in \u001b[0;36m<module>\u001b[0;34m\u001b[0m\n\u001b[0;32m----> 1\u001b[0;31m \u001b[0mfile\u001b[0m\u001b[0;34m=\u001b[0m\u001b[0mopen\u001b[0m\u001b[0;34m(\u001b[0m\u001b[0;34m'file'\u001b[0m\u001b[0;34m)\u001b[0m\u001b[0;34m\u001b[0m\u001b[0;34m\u001b[0m\u001b[0m\n\u001b[0m\u001b[1;32m      2\u001b[0m \u001b[0;31m#cont=file.read()\u001b[0m\u001b[0;34m\u001b[0m\u001b[0;34m\u001b[0m\u001b[0;34m\u001b[0m\u001b[0m\n\u001b[1;32m      3\u001b[0m \u001b[0mprint\u001b[0m\u001b[0;34m(\u001b[0m\u001b[0mfile\u001b[0m\u001b[0;34m.\u001b[0m\u001b[0mread\u001b[0m\u001b[0;34m(\u001b[0m\u001b[0;36m5\u001b[0m\u001b[0;34m)\u001b[0m\u001b[0;34m)\u001b[0m\u001b[0;34m\u001b[0m\u001b[0;34m\u001b[0m\u001b[0m\n\u001b[1;32m      4\u001b[0m \u001b[0;31m#print(cont)\u001b[0m\u001b[0;34m\u001b[0m\u001b[0;34m\u001b[0m\u001b[0;34m\u001b[0m\u001b[0m\n\u001b[1;32m      5\u001b[0m \u001b[0mfile\u001b[0m\u001b[0;34m.\u001b[0m\u001b[0mclose\u001b[0m\u001b[0;34m(\u001b[0m\u001b[0;34m)\u001b[0m\u001b[0;34m\u001b[0m\u001b[0;34m\u001b[0m\u001b[0m\n",
      "\u001b[0;31mFileNotFoundError\u001b[0m: [Errno 2] No such file or directory: 'file'"
     ]
    }
   ],
   "source": [
    "file=open('file')\n",
    "#cont=file.read()\n",
    "print(file.read(5))\n",
    "#print(cont)\n",
    "file.close()"
   ]
  },
  {
   "cell_type": "code",
   "execution_count": null,
   "metadata": {},
   "outputs": [],
   "source": []
  }
 ],
 "metadata": {
  "kernelspec": {
   "display_name": "Python 3",
   "language": "python",
   "name": "python3"
  },
  "language_info": {
   "codemirror_mode": {
    "name": "ipython",
    "version": 3
   },
   "file_extension": ".py",
   "mimetype": "text/x-python",
   "name": "python",
   "nbconvert_exporter": "python",
   "pygments_lexer": "ipython3",
   "version": "3.7.3"
  }
 },
 "nbformat": 4,
 "nbformat_minor": 2
}
