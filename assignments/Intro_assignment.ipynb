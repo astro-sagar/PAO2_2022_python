{
 "cells": [
  {
   "cell_type": "markdown",
   "metadata": {},
   "source": [
    "### Question 1.\n",
    "> Try to get python to generate an error message, by typing something which you think it will\n",
    "not understand, or trying to divide by zero. Try to get at least three different error messages."
   ]
  },
  {
   "cell_type": "code",
   "execution_count": 18,
   "metadata": {},
   "outputs": [],
   "source": [
    "#Your code with answer"
   ]
  },
  {
   "cell_type": "markdown",
   "metadata": {},
   "source": [
    "### Question 2.\n",
    "\n",
    "> Create a simple calculator code. Which will ask you what operation you want to perform and take user input and give you the result. The o/p looks like following:\n",
    "\n",
    "```\n",
    "Options:\n",
    "Enter 'add' to add two number.\n",
    "Enter 'subtract' to subtract two number.\n",
    "Enter 'multiply' to multiply two number.\n",
    "Enter 'division' to divide two number.\n",
    "Enter 'power' to calculate power\n",
    "Enter 'quit' to quit to end the program.\n",
    "```\n",
    "Then you it will provide answer according to your choice."
   ]
  },
  {
   "cell_type": "code",
   "execution_count": 19,
   "metadata": {},
   "outputs": [],
   "source": [
    "#Your code with answer"
   ]
  },
  {
   "cell_type": "markdown",
   "metadata": {},
   "source": [
    "### Question 3\n",
    "You have aof ra dec in the following format.\n",
    "ra\tdec  <br> \n",
    "23h 21m 59.862235s\t <nbsp>  27d 32' 46.44343\" <br>\n",
    "\n",
    "The requirement for the input of a archive search is in little bit different format of ra dec as follows. \n",
    "ra\t dec <br>\n",
    "23h21m59.862235s\t <nbsp> 27d32m46.44343s <br>\n",
    "\n",
    ">Write a code to get the desired ra dec format from the input format.\n",
    "\n",
    "```\n",
    "***********************************************************\n",
    "input- 23h 21m 59.862235s\t <nbsp>  27d 32' 46.44343\" <br>\n",
    "output- 23h21m59.862235s\t <nbsp> 27d32m46.44343s <br>\n",
    "***********************************************************\n",
    "```"
   ]
  },
  {
   "cell_type": "code",
   "execution_count": 20,
   "metadata": {},
   "outputs": [],
   "source": [
    "#Your code with answer"
   ]
  },
  {
   "attachments": {},
   "cell_type": "markdown",
   "metadata": {},
   "source": [
    "### Question 4 (The resolution of a telescope). \n",
    "We always need both large scale detection with high-resolution data to map better a radio source. There are two types of radio telescopes in the world i.e. single-dish and interferometry radio telescopes. A single dish telescope is one antena while interferometer consists of array of antenna spread across an area. The distance between any two antenna in an interferometer is known as a baseline. Single dish telescope: Effelsberg radio telescope (D= 100m) and Green bank telescope (D=100m), Interferometry: GMRT (max baseline = 25 km) and VLA (max baseline = 36 km)\n",
    "\n",
    "\n",
    "\n",
    "### The resolution of a telescope is \n",
    "\n",
    "###        $\\rm \\theta_{rad} = 1.22 \\times \\frac{\\lambda}{D}$\n",
    "where D = Diameter of a single dish radio telescope or the largest baseline of an interferometer.\n",
    "\n",
    "\n",
    ">Find the resolution of the radio telescope at particular frequency. Write a python program that will take inputs telescope name, frequency and the diameter/largest baseline. Which will show something like this:\n",
    "\n",
    "\n",
    "\n",
    "```\n",
    "********************************************\n",
    "For VLA the resolution of the telescope is: \n",
    "2 arc sec   at 1400 MHz \n",
    "********************************************\n",
    "```\n"
   ]
  },
  {
   "cell_type": "code",
   "execution_count": 21,
   "metadata": {},
   "outputs": [],
   "source": [
    "#Your code with answer"
   ]
  },
  {
   "cell_type": "markdown",
   "metadata": {},
   "source": [
    "### Question 5 (The largest angular size can be visible by radio telescope).\n",
    "### The largest angular size can be visible by radio telescope is again\n",
    "###        $\\rm \\theta_{rad} = 1.22 \\times \\frac{\\lambda}{D}$\n",
    "where D = Diameter of a single dish radio telescope but for an interferometer it is the size of single antenna.\n",
    "The size of the single antenna for VLA is 25 meter and GMRT is 45 meter.\n",
    "\n",
    ">Find the largest angular size can be visible by radio telescope. Write a python program that will take inputs telescope name, frequency and the diameter/largest baseline. Which will show something like this:\n",
    "\n",
    "```\n",
    "****************************************************\n",
    "For GMRT the largest angular size can be visible is: \n",
    "2582.0 arc sec at 650.0 MHz\n",
    "****************************************************\n",
    "```"
   ]
  },
  {
   "cell_type": "code",
   "execution_count": 17,
   "metadata": {},
   "outputs": [],
   "source": [
    "#Your code with answer"
   ]
  },
  {
   "cell_type": "code",
   "execution_count": null,
   "metadata": {},
   "outputs": [],
   "source": []
  },
  {
   "cell_type": "code",
   "execution_count": null,
   "metadata": {},
   "outputs": [],
   "source": []
  }
 ],
 "metadata": {
  "kernelspec": {
   "display_name": "Python 3",
   "language": "python",
   "name": "python3"
  },
  "language_info": {
   "codemirror_mode": {
    "name": "ipython",
    "version": 3
   },
   "file_extension": ".py",
   "mimetype": "text/x-python",
   "name": "python",
   "nbconvert_exporter": "python",
   "pygments_lexer": "ipython3",
   "version": "3.7.3"
  }
 },
 "nbformat": 4,
 "nbformat_minor": 2
}
