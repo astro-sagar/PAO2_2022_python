{
 "cells": [
  {
   "cell_type": "markdown",
   "metadata": {},
   "source": [
    "## Do not use for loop in the following"
   ]
  },
  {
   "cell_type": "markdown",
   "metadata": {},
   "source": [
    "### Question 1. \n",
    "Write a script to return the standard deviation of a portion of a 2-D array, specified by the\n",
    "user, from a text file of floating point numbers, also specified by the user. Make your own text\n",
    "file of numbers with your favourite text editor, and verify that it works."
   ]
  },
  {
   "cell_type": "code",
   "execution_count": 10,
   "metadata": {},
   "outputs": [],
   "source": [
    "#Your code with answer"
   ]
  },
  {
   "cell_type": "markdown",
   "metadata": {},
   "source": [
    "### Question 2. \n",
    "Write a script to read in a file and return an array which contains the index of all fields which could contain a date between 1900 and 2020, e.g.\n",
    "> Although solar eclipses (Alpha et al. 1980) might be granular\n",
    "(Bethe & Gamow 2000), it is thought...\n",
    "\n",
    "would return an array [6,13]."
   ]
  },
  {
   "cell_type": "code",
   "execution_count": 11,
   "metadata": {},
   "outputs": [],
   "source": [
    "#Your code with answer"
   ]
  },
  {
   "cell_type": "markdown",
   "metadata": {},
   "source": [
    "### Question 3.\n",
    "A simple version of the FIRST catalogue (Becker et al. 1995, a catalogue of radio sources at\n",
    "20cm made with the VLA) can be found on github page [Part_of_FIRST_catalog_14dec17.csv](https://github.com/sagar-sethi/PAO2_2022_python). Its columns for each source are: right ascension, declination, peak flux, total flux, major axis of fitted component (in arcseconds), minor axis (if the component is resolved, otherwise this field is 0.0), and component position angle.\n",
    "\n",
    "> From the FIRST catalogue, print out a list of the right ascension and declination (both in\n",
    "degrees) of all sources which have peak flux density of 100mJy or more. Append a ’C’ to those\n",
    "sources which are not resolved."
   ]
  },
  {
   "cell_type": "code",
   "execution_count": 12,
   "metadata": {},
   "outputs": [],
   "source": [
    "#Your code with answer"
   ]
  },
  {
   "cell_type": "markdown",
   "metadata": {},
   "source": [
    "### Question 4. \n",
    "Make a n×2 rray of RA and declination (in degrees) of all FIRST sources with total flux\n",
    "density >100mJy. Find the two >100mJy sources with the smallest separation in declination."
   ]
  },
  {
   "cell_type": "code",
   "execution_count": 13,
   "metadata": {},
   "outputs": [],
   "source": [
    "#Your code with answer"
   ]
  },
  {
   "cell_type": "markdown",
   "metadata": {},
   "source": [
    "### Question 5.\n",
    "Make a 2-D image (like a numpy array) full of empty sky, whose size and counts per pixel can be specified by the\n",
    "user. The noise in each pixel should be the square root of the number of counts."
   ]
  },
  {
   "cell_type": "code",
   "execution_count": 9,
   "metadata": {},
   "outputs": [],
   "source": [
    "#Your code with answer"
   ]
  },
  {
   "cell_type": "markdown",
   "metadata": {},
   "source": [
    "### Question 6.\n",
    "Make a 2-D image whose values at each pixel are the distance from a pixel which is specified by\n",
    "the user. Then make a 2-D image which contains a Gaussian with a user-specified width, centre\n",
    "(in pixels) and peak flux."
   ]
  },
  {
   "cell_type": "code",
   "execution_count": null,
   "metadata": {},
   "outputs": [],
   "source": [
    "#Your code with answer"
   ]
  },
  {
   "cell_type": "code",
   "execution_count": 17,
   "metadata": {},
   "outputs": [],
   "source": [
    "#Your code with answer"
   ]
  },
  {
   "cell_type": "code",
   "execution_count": null,
   "metadata": {},
   "outputs": [],
   "source": []
  },
  {
   "cell_type": "code",
   "execution_count": null,
   "metadata": {},
   "outputs": [],
   "source": []
  }
 ],
 "metadata": {
  "kernelspec": {
   "display_name": "Python 3",
   "language": "python",
   "name": "python3"
  },
  "language_info": {
   "codemirror_mode": {
    "name": "ipython",
    "version": 3
   },
   "file_extension": ".py",
   "mimetype": "text/x-python",
   "name": "python",
   "nbconvert_exporter": "python",
   "pygments_lexer": "ipython3",
   "version": "3.7.3"
  }
 },
 "nbformat": 4,
 "nbformat_minor": 2
}
