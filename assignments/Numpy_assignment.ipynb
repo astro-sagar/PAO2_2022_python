{
 "cells": [
  {
   "cell_type": "markdown",
   "metadata": {},
   "source": [
    "### Question 1. \n",
    "\n",
    "\n",
    "Write a script to return the standard deviation of a portion of a 2-D array, specified by the\n",
    "user, from a text file of floating point numbers, also specified by the user. Make your own text\n",
    "file of numbers with your favourite text editor, and verify that it works."
   ]
  },
  {
   "cell_type": "code",
   "execution_count": 10,
   "metadata": {},
   "outputs": [],
   "source": [
    "#Your code with answer"
   ]
  },
  {
   "cell_type": "markdown",
   "metadata": {},
   "source": [
    "### Question 2. \n",
    "Write a script to read in a file and return an array which contains the index of all fields which could contain a date between 1900 and 2020, e.g.\n",
    "> Although solar eclipses (Alpha et al. 1980) might be granular\n",
    "(Bethe & Gamow 2000), it is thought...\n",
    "\n",
    "would return an array [6,13]."
   ]
  },
  {
   "cell_type": "code",
   "execution_count": 11,
   "metadata": {},
   "outputs": [],
   "source": [
    "#Your code with answer"
   ]
  },
  {
   "cell_type": "markdown",
   "metadata": {},
   "source": [
    "### Question 3.\n",
    "A simple version of the FIRST catalogue (Becker et al. 1995, a catalogue of radio sources at\n",
    "20cm made with the VLA) can be found on github page [Part_of_FIRST_catalog_14dec17.csv](https://github.com/sagar-sethi/PAO2_2022_python). Its columns for each source are: right ascension, declination, peak flux, total flux, major axis of fitted component (in arcseconds), minor axis (if the component is resolved, otherwise this field is 0.0), and component position angle.\n",
    "\n",
    "> From the FIRST catalogue, print out a list of the right ascension and declination (both in\n",
    "degrees) of all sources which have peak flux density of 100mJy or more. Append a ’C’ to those\n",
    "sources which are not resolved."
   ]
  },
  {
   "cell_type": "code",
   "execution_count": 12,
   "metadata": {},
   "outputs": [],
   "source": [
    "#Your code with answer"
   ]
  },
  {
   "cell_type": "markdown",
   "metadata": {},
   "source": [
    "### Question 4. \n",
    "Make a n×2 rray of RA and declination (in degrees) of all FIRST sources with total flux\n",
    "density >100mJy. Find the two >100mJy sources with the smallest separation in declination."
   ]
  },
  {
   "cell_type": "code",
   "execution_count": 13,
   "metadata": {},
   "outputs": [],
   "source": [
    "#Your code with answer"
   ]
  },
  {
   "cell_type": "markdown",
   "metadata": {},
   "source": [
    "### Question 5.\n",
    "Make a 2-D image (like a numpy array) full of empty sky, whose size and counts per pixel can be specified by the\n",
    "user. The noise in each pixel should be the square root of the number of counts."
   ]
  },
  {
   "cell_type": "code",
   "execution_count": 9,
   "metadata": {},
   "outputs": [],
   "source": [
    "#Your code with answer"
   ]
  },
  {
   "cell_type": "markdown",
   "metadata": {},
   "source": [
    "### Question 6.\n",
    "Make a 2-D image whose values at each pixel are the distance from a pixel which is specified by\n",
    "the user. Then make a 2-D image which contains a Gaussian with a user-specified width, centre\n",
    "(in pixels) and peak flux."
   ]
  },
  {
   "cell_type": "code",
   "execution_count": null,
   "metadata": {},
   "outputs": [],
   "source": [
    "#Your code with answer"
   ]
  },
  {
   "cell_type": "markdown",
   "metadata": {},
   "source": [
    "### Question 7.\n",
    "\n",
    "Write a function that reads data from a CSV file and calculates its mean and the median. Your function should take the name of the file as an argument and return the mean and median in a tuple, rounded to one decimal place.\n",
    "The .txt files are available in the directory.\n",
    "\n",
    "Output as follows for 1st file (data.csv)\n",
    "\n",
    "```\n",
    "for file data.csv, mean = 11.1 and median = 11.4.\n",
    "```"
   ]
  },
  {
   "cell_type": "code",
   "execution_count": 17,
   "metadata": {},
   "outputs": [],
   "source": [
    "#Your code with answer"
   ]
  },
  {
   "cell_type": "markdown",
   "metadata": {},
   "source": [
    "### Question 8.\n",
    "\n",
    "Write a mean_datasets function that reads in a list of CSV files and returns an array of the mean of each cell in the data files.\n",
    "\n",
    "The files each contain n rows and m columns, giving a total of n x m cells. The individual cells are separated by commas, and all CSV files in the list will have the same number of rows and columns.\n",
    "\n",
    "The result should have the same dimensions as the input files. The result should be a NumPy array with individual entries rounded to one decimal place.\n",
    "\n",
    "Suppose we want to use the three files data1.csv, data2.csv and data3.csv. Your function should then take a list of the filenames and return the following:\n",
    "```\n",
    "data1.csv\n",
    "7.98631,16.82952,19.65165\n",
    "7.14460,10.41674,3.81853\n",
    "7.48549,14.61958,8.87193\n",
    "8.66521,14.14244,10.10248\n",
    "14.80968,12.82048,13.41792\n",
    "\n",
    "data2.csv\n",
    "12.65900,13.22477,8.94481\n",
    "7.11298,1.99820,8.49168\n",
    "0.25181,9.79979,13.62024\n",
    "1.98336,1.42358,9.92036\n",
    "16.99241,18.93915,7.46266\n",
    "\n",
    "data3.csv\n",
    "12.47115,5.51385,10.31595\n",
    "14.12714,8.03384,15.76423\n",
    "13.78446,8.92194,15.08250\n",
    "15.79836,6.28136,7.43691\n",
    "17.93699,0.01700,10.15189\n",
    "\n",
    "Test your code\n",
    "mean_datasets(['data1.csv', 'data2.csv', 'data3.csv'])\n",
    "array([[ 11.   11.9  13. ]\n",
    "       [  9.5   6.8   9.4]\n",
    "       [  7.2  11.1  12.5]\n",
    "       [  8.8   7.3   9.2]\n",
    "       [ 16.6  10.6  10.3]])\n",
    "```"
   ]
  },
  {
   "cell_type": "code",
   "execution_count": null,
   "metadata": {},
   "outputs": [],
   "source": [
    "#Your code with answer"
   ]
  }
 ],
 "metadata": {
  "kernelspec": {
   "display_name": "Python 3",
   "language": "python",
   "name": "python3"
  },
  "language_info": {
   "codemirror_mode": {
    "name": "ipython",
    "version": 3
   },
   "file_extension": ".py",
   "mimetype": "text/x-python",
   "name": "python",
   "nbconvert_exporter": "python",
   "pygments_lexer": "ipython3",
   "version": "3.7.3"
  }
 },
 "nbformat": 4,
 "nbformat_minor": 2
}
