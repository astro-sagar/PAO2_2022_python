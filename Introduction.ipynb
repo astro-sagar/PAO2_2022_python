{
 "cells": [
  {
   "cell_type": "markdown",
   "metadata": {
    "slideshow": {
     "slide_type": "slide"
    }
   },
   "source": [
    "# Introduction to python\n",
    "Python is one of the most popular and widely used programming language in the world ([source](https://insights.stackoverflow.com/survey/2021#section-most-popular-technologies-programming-scripting-and-markup-languages)). It has application to numerous areas including \n",
    "* web programming, \n",
    "* scripting, \n",
    "* artificial intelligence \n",
    "* scientific computing  \n",
    "* Astronomy and Astrophysics."
   ]
  },
  {
   "cell_type": "markdown",
   "metadata": {
    "slideshow": {
     "slide_type": "slide"
    }
   },
   "source": [
    "The Python language has major advantages - it is ([source](http://www.jb.man.ac.uk/~njj/plan.pdf))\n",
    "* **concise** - One can usually write Python scripts in about a quarter of the length of a C program\n",
    "* **intuitive** - it is very easy to guess what you need to type to do something you want\n",
    "* **scripted** - compilation is not required\n",
    "* **free!!** - you don’t need to spend hundreds of PLN on a licence\n",
    "* **adopted by many users** - if you have a problem, googling “python” followed by your problem usually gets you something useful.\n",
    "* **libraries**- Due to its free and adopted by many users, many basic, and lots of not-so-basic (complicated), functions have already been written by various developer worldwide, leaving you to concentrate on the problem you want to solve"
   ]
  },
  {
   "cell_type": "markdown",
   "metadata": {
    "slideshow": {
     "slide_type": "slide"
    }
   },
   "source": [
    "Let’s see some of the disadvantages of Python ([source](https://www.geeksforgeeks.org/disadvantages-of-python/)) \n",
    "\n",
    "* **Speed**: It has one disadvantage; it’s slower than compiled languages such as Fortran or C. \n",
    "* **Memory Consumption**: For any memory intensive tasks Python is not a good choice. That is why it is not used for that purpose. Python’s memory consumption is also high, due to the flexibility of the data types. \n",
    "* **Runtime Errors**: One of the major drawbacks of this language is that its design has numerous issues.\n",
    "* **Difficulty in Using Other Languages**: The Python lovers become so accustomed to its features and its extensive libraries that they face problem in learning or working on other programming languages. "
   ]
  },
  {
   "cell_type": "markdown",
   "metadata": {
    "slideshow": {
     "slide_type": "slide"
    }
   },
   "source": [
    "First we will learn some introduction to python with some basic but very powerful packages then we will slowly move towards Astropy and your projects.\n",
    " 1. Introduction\n",
    "     1. Numpy\n",
    "     2. Pandas\n",
    "     2. Matplotlib\n",
    " 4. Astropy\n",
    " 5. Projects"
   ]
  },
  {
   "cell_type": "markdown",
   "metadata": {
    "slideshow": {
     "slide_type": "slide"
    }
   },
   "source": [
    "## Basic concepts\n",
    "**Data type:** integer, float,string,complex,boolean. <br>\n",
    "* strigs: text or sentence e.g. I love anime.\n",
    "* integer: numbers which has no decimals e.g. 1, -5 etc\n",
    "* flaots: decimal values e.g. 1.38, -5.98 etc\n",
    "* complex: numbers belongs to complex plane e.g. 3 $\\pm$ 4i etc\n",
    "* boolean: True and false <br>\n",
    "\n",
    "**Artithmatic operation:** Addition, Subtraction, Division, Multiplication, Exponent, quotient and remainder"
   ]
  },
  {
   "cell_type": "markdown",
   "metadata": {
    "slideshow": {
     "slide_type": "slide"
    }
   },
   "source": [
    "**print command** example for various data type:\n",
    "\n",
    "```\n",
    "print('your text will be here')\n",
    "print(variable)\n",
    "print(\"your text is\",variable)\n",
    "\n",
    "#Pythonic way\n",
    "print(\"Your Text {} elements{}.\".format(variable1,variable2))\n",
    "#similar to codes like C and Fortran\n",
    "print(\"Your Text %i elements %s\\t%s\\n\" %(variable1,variable2,variable3))\n",
    "\n",
    "```\n",
    "\n",
    "Python easily recognise between integer and float. Declaration of variable is not necessary like C and Fortran."
   ]
  },
  {
   "cell_type": "markdown",
   "metadata": {},
   "source": [
    "## String data type\n",
    "> \" \" or ' ' regarded as white space"
   ]
  },
  {
   "cell_type": "code",
   "execution_count": 39,
   "metadata": {
    "slideshow": {
     "slide_type": "slide"
    }
   },
   "outputs": [
    {
     "name": "stdout",
     "output_type": "stream",
     "text": [
      "Hello bash! I am python, talking from other side .\n"
     ]
    }
   ],
   "source": [
    "# Your first program\n",
    "#print a sentence (\"\") or ('')\n",
    "print('Hello bash! I am python, talking from other side .')"
   ]
  },
  {
   "cell_type": "code",
   "execution_count": 40,
   "metadata": {},
   "outputs": [
    {
     "name": "stdout",
     "output_type": "stream",
     "text": [
      "printing=\"\"\n"
     ]
    }
   ],
   "source": [
    "print(\"printing=\\\"\\\"\") #print \"\" inside the string use \\"
   ]
  },
  {
   "cell_type": "code",
   "execution_count": 42,
   "metadata": {},
   "outputs": [
    {
     "name": "stdout",
     "output_type": "stream",
     "text": [
      "\n",
      "Hello! world ,\n",
      " I am python.\n",
      "\n"
     ]
    }
   ],
   "source": [
    "print('\\nHello! world ,\\n I am python.\\n') #print a new line using '\\n'"
   ]
  },
  {
   "cell_type": "code",
   "execution_count": 43,
   "metadata": {},
   "outputs": [
    {
     "name": "stdout",
     "output_type": "stream",
     "text": [
      "radio galaxy\n"
     ]
    }
   ],
   "source": [
    "print(\"radio\" + \" \" +\"galaxy\") #You can perform arithmatic operations on the strings also"
   ]
  },
  {
   "cell_type": "markdown",
   "metadata": {},
   "source": []
  },
  {
   "cell_type": "code",
   "execution_count": 46,
   "metadata": {},
   "outputs": [
    {
     "name": "stdout",
     "output_type": "stream",
     "text": [
      "z= Hello\n",
      "x= bash\n",
      "Hello,bash\n",
      "HelloHelloHello\n",
      "222222\n"
     ]
    }
   ],
   "source": [
    "#Variable assign\n",
    "z=\"Hello\"\n",
    "print(\"z=\",z)\n",
    "x=\"bash\"\n",
    "print(\"x=\",x)\n",
    "y=3\n",
    "print(z + \",\" + x)\n",
    "print(z*y)\n",
    "print(6 * \"2\")"
   ]
  },
  {
   "cell_type": "markdown",
   "metadata": {},
   "source": [
    "## Integer and float data type"
   ]
  },
  {
   "cell_type": "code",
   "execution_count": 50,
   "metadata": {
    "scrolled": true
   },
   "outputs": [
    {
     "name": "stdout",
     "output_type": "stream",
     "text": [
      "y= 3\n",
      "w= 2\n",
      "5.0\n",
      "36.0\n",
      "7\n"
     ]
    }
   ],
   "source": [
    "#variable assignment\n",
    "y=3;w=2\n",
    "print(\"y=\",y)\n",
    "print(\"w=\",w)\n",
    "print(float(w) + int(y))\n",
    "a=float(\"3\" + \"4\")\n",
    "print(a+w)\n",
    "b=int(\"3\") + int(\"4\")\n",
    "print(b)"
   ]
  },
  {
   "cell_type": "code",
   "execution_count": 55,
   "metadata": {
    "scrolled": true
   },
   "outputs": [
    {
     "name": "stdout",
     "output_type": "stream",
     "text": [
      "x1= 10\n",
      "y1 3\n",
      "y2= 5\n",
      "x1/y1= 3.3333333333333335 ,quotient= 3 ,remainder= 1 and x1/y2= 2.0\n"
     ]
    }
   ],
   "source": [
    "#Arithmatic operation\n",
    "\n",
    "x1=10\n",
    "print('x1=',x1)\n",
    "y1=3\n",
    "print('y1',y1)\n",
    "y2=5\n",
    "print('y2=',y2)\n",
    "z1=x1/y1\n",
    "z2=x1/y2\n",
    "z3=x1//y1\n",
    "z4=x1%y1\n",
    "print('x1/y1=',z1,',quotient=',z3,',remainder=',z4,'and x1/y2=',z2)"
   ]
  },
  {
   "cell_type": "markdown",
   "metadata": {},
   "source": [
    "## Control structure\n",
    "Four basic control loops are `if-else`,`for`,`while`and`try`"
   ]
  },
  {
   "cell_type": "code",
   "execution_count": 56,
   "metadata": {},
   "outputs": [],
   "source": [
    "#While loop\n",
    "#---------------------------\n",
    "# while expression:\n",
    "#  .\n",
    "#  .\n",
    "#  .\n",
    "#  Body\n",
    "#---------------------------"
   ]
  },
  {
   "cell_type": "code",
   "execution_count": 57,
   "metadata": {
    "scrolled": true
   },
   "outputs": [
    {
     "name": "stdout",
     "output_type": "stream",
     "text": [
      "Enter whose multiplication table you want:6\n",
      "6 x 1 = 6\n",
      "6 x 2 = 12\n",
      "6 x 3 = 18\n",
      "6 x 4 = 24\n",
      "6 x 5 = 30\n",
      "6 x 6 = 36\n",
      "6 x 7 = 42\n",
      "6 x 8 = 48\n",
      "6 x 9 = 54\n",
      "6 x 10 = 60\n",
      "End of table\n"
     ]
    }
   ],
   "source": [
    "# Multiplication table\n",
    "\n",
    "x=input(\"Enter whose multiplication table you want:\")\n",
    "i=1\n",
    "while i<=10:\n",
    " y=int(x)*i\n",
    " print(x,\"x\",i,\"=\",y)\n",
    " i+=1\n",
    "print(\"End of table\")"
   ]
  },
  {
   "cell_type": "code",
   "execution_count": null,
   "metadata": {},
   "outputs": [],
   "source": [
    "#if-elif-else statement\n",
    "#-----------------------\n",
    "#if test expression:\n",
    "#    Body of if\n",
    "# elif test expression:\n",
    "#    Body of elif\n",
    "# else: \n",
    "#    Body of else\n",
    "#-----------------------"
   ]
  },
  {
   "cell_type": "code",
   "execution_count": null,
   "metadata": {},
   "outputs": [],
   "source": [
    "x=input(\"give value for x:\")\n",
    "print(\"x=\",x)\n",
    "y=input(\"give value for y:\")\n",
    "print(\"y=\",y)\n",
    "if x>y:\n",
    " print(x,\"greater than y\",y)\n",
    "else:\n",
    " print(y,\"greater than\",x)\n",
    "\n",
    "print(\"End of program\")"
   ]
  },
  {
   "cell_type": "code",
   "execution_count": null,
   "metadata": {},
   "outputs": [],
   "source": [
    "##### Finding greatest among 3 no\n",
    "#neted if\n",
    "x=float(input(\"Enter the 1st no: \"))\n",
    "y=float(input(\"Enter the 2nd no: \"))\n",
    "z=float(input(\"Enter the 3rd no: \"))\n",
    "print(\"Three nos are\",x,y,z)\n",
    "\n",
    "if x>y:\n",
    " if x>z:\n",
    "  print(\"The largest no among\",x,\",\",y,\",\",z,\"is: \",x)\n",
    " else:\n",
    "  print(\"The largest no among\",x,\",\",y,\",\",z,\"is: \",z)\n",
    "else:\n",
    " if y>z:\n",
    "  print(\"The largest no among\",x,\",\",y,\",\",z,\"is: \",y)\n",
    " else:\n",
    "  print(\"The largest no among\",x,\",\",y,\",\",z,\"is: \",z)\n",
    "input(\"Enter to exit\")"
   ]
  },
  {
   "cell_type": "code",
   "execution_count": null,
   "metadata": {},
   "outputs": [],
   "source": [
    "x=int(input(\"give value for x:\"))\n",
    "print(\"x=\",x)\n",
    "y=int(input(\"give value for y:\"))\n",
    "print(\"y=\",y)\n",
    "\n",
    "\n",
    "if x==y:\n",
    " print(\"Equal\")\n",
    "else:\n",
    " print(\"Not Equal\")\n",
    " if x>y:\n",
    "  print(x,\"greater than \",y)\n",
    " else:\n",
    "  print(y,\"greater than\",x)\n",
    "\n",
    "print(\"--------------------------------------\")\n",
    "\n",
    "if x==y:\n",
    " print(\"Equal\")\n",
    "else:\n",
    " print(\"Not Equal\")\n",
    "if x>y:\n",
    " print(x,\"greater than \",y)\n",
    "else:\n",
    "  print(y,\"greater than\",x)"
   ]
  },
  {
   "cell_type": "code",
   "execution_count": null,
   "metadata": {},
   "outputs": [],
   "source": [
    "#Boolean expresson\n",
    "if not True:\n",
    " print(\"1\")\n",
    "elif not (1+1==3):\n",
    " print(\"2\")\n",
    "else:\n",
    " print(\"3\")"
   ]
  },
  {
   "cell_type": "code",
   "execution_count": 15,
   "metadata": {},
   "outputs": [
    {
     "name": "stdout",
     "output_type": "stream",
     "text": [
      "Enter value of x:7\n",
      "Enter value of y:9\n",
      "Enter value of z:8\n",
      "Minu\n",
      "Papu\n",
      "AGN\n",
      "Radio Astronomy\n"
     ]
    }
   ],
   "source": [
    "    #Boolean Logic\n",
    "    x=input(\"Enter value of x:\")\n",
    "    y=input(\"Enter value of y:\")\n",
    "    z=input(\"Enter value of z:\")\n",
    "    \"\"\"\n",
    "    != not equals to\n",
    "    <= less than equal to\n",
    "    >= greater than equal to\n",
    "    and= if and only if both expressions are right then only program will execute\n",
    "    and can take two argument at a time\n",
    "    \"\"\"\n",
    "    \n",
    "    if x==y and y>z:\n",
    "     print(\"Sagar\")\n",
    "    else:\n",
    "     print(\"Minu\")\n",
    "    #----------------------------------------------------------------------\n",
    "    #or = if anyone of the expression is right then program will execute\n",
    "    #or can take two argument at a time\n",
    "    if x!=y or y<z:\n",
    "     print(\"Papu\")\n",
    "    else:\n",
    "     print(\"Rinku\")\n",
    "    #-------------------------------------------------------------------------\n",
    "    #not = inverse the argument\n",
    "    #not can take one argument at a time\n",
    "    if not x==y:\n",
    "     print(\"AGN\")\n",
    "    else:\n",
    "     print(\"Radio Astronomy\")\n",
    "\n",
    "    if x==y:\n",
    "     print(\"AGN\")\n",
    "    else:\n",
    "     print(\"Radio Astronomy\")"
   ]
  },
  {
   "cell_type": "markdown",
   "metadata": {},
   "source": [
    "# list"
   ]
  },
  {
   "cell_type": "code",
   "execution_count": 6,
   "metadata": {},
   "outputs": [],
   "source": [
    "#list\n",
    "#index\n",
    "#list functions\n",
    "#(.append) is a method, which can insert a new element to the end of the list only.\n",
    "#syntax \n",
    "#listname.append(obj)\n",
    "#\n",
    "#(.insert) is a method, which can insert a new element at any place of the list so it is taking one argument.\n",
    "# syntax \n",
    "#listname.insert(arg1,obj)\n",
    "#arg1= position\n",
    "#--------------------------------------------------------------------"
   ]
  },
  {
   "cell_type": "code",
   "execution_count": 7,
   "metadata": {},
   "outputs": [
    {
     "name": "stdout",
     "output_type": "stream",
     "text": [
      "jack and chris are bestie.\n",
      "jack and sagar are same in class\n",
      "marek is younger brother of jack\n",
      "chrischrischris\n",
      "['jack', 'chris', 'marek', 'sagar']\n",
      "leptons = electron muon tau\n",
      "quark = up down top bottom charm strange\n",
      "o   l\n",
      "False\n",
      "jack and rin are bestie.\n",
      "['jack', 'rin', 'marek', 'sagar']\n",
      "True\n"
     ]
    }
   ],
   "source": [
    "#list\n",
    "names=[\"jack\",\"chris\",\"marek\",\"sagar\"]\n",
    "print(names[0],\"and\",names[1],\"are bestie.\")\n",
    "print(names[0],\"and\",names[3],\"are same in class\")\n",
    "print(names[2],\"is younger brother of\",names[0])\n",
    "x=3\n",
    "print(names[1]*3)\n",
    "print(names)\n",
    "\n",
    "\n",
    "particle=[\"leptons\",[\"electron\",\"muon\",\"tau\"],\"quark\",[\"up\",\"down\",\"top\",\"bottom\",\"charm\",\"strange\"]]\n",
    "print(particle[0],\"=\",particle[1][0],particle[1][1],particle[1][2])\n",
    "print(particle[2],\"=\",particle[3][0],particle[3][1],particle[3][2],particle[3][3],particle[3][4],particle[3][5])\n",
    "\n",
    "str= \"I love astronomy\" \n",
    "print(str[3],str[1],str[2])\n",
    "\n",
    "\n",
    "print(\"rin\" in names)\n",
    "names[1]=\"rin\"\n",
    "print(names[0],\"and\",names[1],\"are bestie.\")\n",
    "print(names)\n",
    "\n",
    "print(\"rin\" in names)"
   ]
  },
  {
   "cell_type": "code",
   "execution_count": 8,
   "metadata": {},
   "outputs": [
    {
     "name": "stdout",
     "output_type": "stream",
     "text": [
      "Enter the line to calculate no of string:magia banda bia\n",
      "15\n",
      "magia banda bia\n",
      "Fundamental forces are ['Gravitational', 'strong', 'weak']\n",
      "Enter the ramaining force:em\n",
      "Enter where you want to enter:3\n",
      "['Gravitational', 'strong', 'weak', 'em']\n"
     ]
    }
   ],
   "source": [
    "a=input(\"Enter the line to calculate no of string:\")\n",
    "print(len(a))\n",
    "\n",
    "Forces=[\"Gravitational\",\"strong\",\"weak\"]\n",
    "print(a)\n",
    "print(\"Fundamental forces are\",Forces)\n",
    "y=input(\"Enter the ramaining force:\")\n",
    "x=int(input(\"Enter where you want to enter:\"))\n",
    "Forces.insert(x,y)\n",
    "print(Forces)"
   ]
  },
  {
   "cell_type": "code",
   "execution_count": 9,
   "metadata": {
    "scrolled": true
   },
   "outputs": [
    {
     "name": "stdout",
     "output_type": "stream",
     "text": [
      "hello!\n",
      "world!\n",
      "spam!\n",
      "eggs!\n",
      "I!\n",
      "I!\n",
      "I!\n",
      "I!\n",
      "I!\n",
      "0\n",
      "1\n",
      "2\n",
      "3\n",
      "4\n",
      "5\n",
      "6\n",
      "7\n",
      "8\n",
      "9\n"
     ]
    }
   ],
   "source": [
    "#loop range\n",
    "list=[\"hello\",\"world\",\"spam\",\"eggs\"]\n",
    "for I in list:\n",
    " print(I+\"!\")\n",
    "\n",
    "list=[\"hello\",\"world\",\"spam\",\"eggs\"]\n",
    "for I in range(5):\n",
    " print(\"I\"+\"!\")\n",
    "\n",
    "for i in range(10):\n",
    " #if not i%2==0:\n",
    "  print(i)"
   ]
  },
  {
   "cell_type": "markdown",
   "metadata": {},
   "source": [
    "# Calculator question"
   ]
  },
  {
   "cell_type": "code",
   "execution_count": 22,
   "metadata": {},
   "outputs": [
    {
     "name": "stdout",
     "output_type": "stream",
     "text": [
      "Options:\n",
      "Enter 'add' to add two number.\n",
      "Enter 'subtract' to subtract two number.\n",
      "Enter 'multiply' to multiply two number.\n",
      "Enter 'division' to divide two number.\n",
      "Enter 'power' to calculate power\n",
      "Enter 'quit' to quit to end the program.\n",
      "Enter:power\n",
      "Enter Two number\n",
      "Enter exponent:5\n",
      "Enter no:5\n",
      "The answer is 3125.0\n"
     ]
    }
   ],
   "source": [
    "# Simple calculator\n",
    "while True:\n",
    " print(\"Options:\")\n",
    " print(\"Enter 'add' to add two number.\")\n",
    " print(\"Enter 'subtract' to subtract two number.\")\n",
    " print(\"Enter 'multiply' to multiply two number.\")\n",
    " print(\"Enter 'division' to divide two number.\")\n",
    " print(\"Enter 'power' to calculate power\")\n",
    " print(\"Enter 'quit' to quit to end the program.\")\n",
    " user=input(\"Enter:\")\n",
    "\n",
    " if user == \"quit\":\n",
    "  break\n",
    "#--------------------------------------\n",
    " elif user == \"add\":\n",
    "  print(\"Enter Two number\")\n",
    "  num1 = float(input(\"Enter 1st no:\"))\n",
    "  num2 = float(input(\"Enter 2nd no:\"))\n",
    "  result=(num1+num2)\n",
    "  print(\"The answer is\",result)\n",
    "#--------------------------------------\n",
    " elif user == \"subtract\":\n",
    "  print(\"Enter Two number\")\n",
    "  num1=float(input(\"Enter 1st no:\"))\n",
    "  num2=float(input(\"Enter 2nd no:\"))\n",
    "  result=(num1-num2)\n",
    "  print(\"The answer is\",result)\n",
    "#---------------------------------------\n",
    " elif user == \"multiply\":\n",
    "  print(\"Enter Two number\")\n",
    "  num1=float(input(\"Enter 1st no:\"))\n",
    "  num2=float(input(\"Enter 2nd no:\"))\n",
    "  result=(num1*num2)\n",
    "  print(\"The answer is\",result)\n",
    "#-----------------------------------------\n",
    " elif user == \"division\":\n",
    "  print(\"Enter Two number\")\n",
    "  num1=float(input(\"Enter 1st no:\"))\n",
    "  num2=float(input(\"Enter 2nd no:\"))\n",
    "  result=(num1/num2)\n",
    "  print(\"The answer is\",result)\n",
    "#----------------------------------------\n",
    " elif user == \"power\":\n",
    "  print(\"Enter Two number\")\n",
    "  num1=float(input(\"Enter exponent:\"))\n",
    "  num2=float(input(\"Enter no:\"))\n",
    "  result=(num2**num1)\n",
    "  print(\"The answer is\",result)\n",
    " else:\n",
    "  print(\"Unknown input\")\n",
    " break\n",
    "\n"
   ]
  },
  {
   "cell_type": "code",
   "execution_count": null,
   "metadata": {},
   "outputs": [],
   "source": [
    "\"\"\"\n",
    "Argument of functions\n",
    "\n",
    "\"\"\"\n",
    "def letter(i):\n",
    " print(i +\" \"+\"sagar\")\n",
    "\n",
    "x=input(\"put a name:\")\n",
    "letter(x)\n",
    "\n",
    "def let(i):\n",
    " print(i+int(2))\n",
    "y=int(input(\"put a no:\"))\n",
    "let(y)"
   ]
  },
  {
   "cell_type": "markdown",
   "metadata": {},
   "source": [
    "# Random generator"
   ]
  },
  {
   "cell_type": "code",
   "execution_count": 24,
   "metadata": {},
   "outputs": [
    {
     "name": "stdout",
     "output_type": "stream",
     "text": [
      "6\n",
      "6\n",
      "6\n",
      "6\n",
      "5\n",
      "3.141592653589793\n",
      "Enter the radius:7\n",
      "Area= 615.7521601035994\n",
      "1\n"
     ]
    }
   ],
   "source": [
    "import random\n",
    "for i in range(5):\n",
    " value= random.randint(4,6)\n",
    " print(value)\n",
    "\n",
    "import math\n",
    "from math import pi\n",
    "print(pi)\n",
    "r=float(input(\"Enter the radius:\"))\n",
    "z=4*pi*r**2\n",
    "print(\"Area=\",z)\n",
    "\n",
    "try:\n",
    " print(1/0)\n",
    "except ZeroDivisionError:\n",
    " print(\"1\")"
   ]
  },
  {
   "cell_type": "markdown",
   "metadata": {},
   "source": [
    "# Question"
   ]
  },
  {
   "cell_type": "code",
   "execution_count": 25,
   "metadata": {
    "collapsed": true
   },
   "outputs": [
    {
     "name": "stdout",
     "output_type": "stream",
     "text": [
      "Please put the telescope name: VLA\n",
      "Please input Diameter/Longest Baseline of telescope in Kilometer: 25\n",
      "25 KM\n",
      "Please input frequency in Mega Hertz: 650\n",
      "650 MHz\n",
      "lambda= 46.15384615384615 cm\n",
      "********************************************\n",
      "For VLA the resolution of the telescope is: \n",
      "4 arc sec   at 650 MHz\n",
      "********************************************\n",
      "press enter to exit\n"
     ]
    },
    {
     "data": {
      "text/plain": [
       "''"
      ]
     },
     "execution_count": 25,
     "metadata": {},
     "output_type": "execute_result"
    }
   ],
   "source": [
    "#Resolution of a telescope\n",
    "#Using Theta=(1.22xlambda)/Diameter\n",
    "#c=Speed of light\n",
    "#Formula=(1.22*c*180*3600)//(pow(10,9)*3.14*D*v)\n",
    "\n",
    "\n",
    "c=3*pow(10,8)\n",
    "T=input(\"Please put the telescope name: \")\n",
    "\n",
    "D=int(input(\"Please input Diameter/Longest Baseline of telescope in Kilometer: \"))\n",
    "print(D,\"KM\")\n",
    "\n",
    "v=int(input(\"Please input frequency in Mega Hertz: \"))\n",
    "print(v,\"MHz\")\n",
    "\n",
    "l=c/(v*pow(10,6))\n",
    "\n",
    "if (l<1.0):\n",
    " l=l*100\n",
    " print(\"lambda=\",l,\"cm\")\n",
    "else:\n",
    " print(\"lambda=\",l,\"m\")\n",
    "\n",
    "print(\"********************************************\")\n",
    "print(\"For\",T,\"the resolution of the telescope is: \")\n",
    "Theta=int((1.22*c*180*3600)//(pow(10,9)*3.14*D*v))\n",
    "print(Theta,\"arc sec   at\",v,\"MHz\")\n",
    "print(\"********************************************\")\n",
    "input(\"press enter to exit\")"
   ]
  },
  {
   "cell_type": "markdown",
   "metadata": {},
   "source": [
    "# Files"
   ]
  },
  {
   "cell_type": "code",
   "execution_count": 14,
   "metadata": {},
   "outputs": [
    {
     "data": {
      "text/plain": [
       "7"
      ]
     },
     "execution_count": 14,
     "metadata": {},
     "output_type": "execute_result"
    }
   ],
   "source": [
    "f = open('lines.txt', 'w')\n",
    "f.write(\"Emission lines\\n\")\n",
    "#f.write(\"name\\t mean\\t fwhm\\t fwhm_err\\n\")\n",
    "f.write(\"%s\\t%s\\t%s\\t%s\\t%s\\n\" % ('name','mean','fwhm','fwhm_err','amp'))\n",
    "\n",
    "#saving all center 'center'\n",
    "f1 = open('center.txt', 'w')\n",
    "f1.write(\"center\\n\")"
   ]
  },
  {
   "cell_type": "code",
   "execution_count": null,
   "metadata": {},
   "outputs": [],
   "source": [
    " f = open('lines.txt', 'a+')\n",
    "    # Append 'new data' in new line\n",
    "    f.write(\"%s\\t %f\\t %f\\t %f\\t %f\\n\" %(name,mean,fwhm,fwhm_err,amp))\n",
    "    # Close the file\n",
    "    f.close()\n",
    "    \n",
    "    #saving all center\n",
    "    #opens file with append mode\n",
    "    f1 = open('center.txt', 'a+')\n",
    "    # Append 'new data' in new line\n",
    "    f1.write(\"%f\\n\" %(mean))\n",
    "    # Close the file\n",
    "    f1.close()"
   ]
  },
  {
   "cell_type": "code",
   "execution_count": 11,
   "metadata": {
    "collapsed": true
   },
   "outputs": [
    {
     "ename": "FileNotFoundError",
     "evalue": "[Errno 2] No such file or directory: 'file.txt'",
     "output_type": "error",
     "traceback": [
      "\u001b[0;31m---------------------------------------------------------------------------\u001b[0m",
      "\u001b[0;31mFileNotFoundError\u001b[0m                         Traceback (most recent call last)",
      "\u001b[0;32m<ipython-input-11-df497910737e>\u001b[0m in \u001b[0;36m<module>\u001b[0;34m\u001b[0m\n\u001b[0;32m----> 1\u001b[0;31m \u001b[0mfile\u001b[0m\u001b[0;34m=\u001b[0m\u001b[0mopen\u001b[0m\u001b[0;34m(\u001b[0m\u001b[0;34m'file.txt'\u001b[0m\u001b[0;34m)\u001b[0m\u001b[0;34m\u001b[0m\u001b[0;34m\u001b[0m\u001b[0m\n\u001b[0m\u001b[1;32m      2\u001b[0m \u001b[0;31m#cont=file.read()\u001b[0m\u001b[0;34m\u001b[0m\u001b[0;34m\u001b[0m\u001b[0;34m\u001b[0m\u001b[0m\n\u001b[1;32m      3\u001b[0m \u001b[0mprint\u001b[0m\u001b[0;34m(\u001b[0m\u001b[0mfile\u001b[0m\u001b[0;34m.\u001b[0m\u001b[0mread\u001b[0m\u001b[0;34m(\u001b[0m\u001b[0;36m5\u001b[0m\u001b[0;34m)\u001b[0m\u001b[0;34m)\u001b[0m\u001b[0;34m\u001b[0m\u001b[0;34m\u001b[0m\u001b[0m\n\u001b[1;32m      4\u001b[0m \u001b[0;31m#print(cont)\u001b[0m\u001b[0;34m\u001b[0m\u001b[0;34m\u001b[0m\u001b[0;34m\u001b[0m\u001b[0m\n\u001b[1;32m      5\u001b[0m \u001b[0mfile\u001b[0m\u001b[0;34m.\u001b[0m\u001b[0mclose\u001b[0m\u001b[0;34m(\u001b[0m\u001b[0;34m)\u001b[0m\u001b[0;34m\u001b[0m\u001b[0;34m\u001b[0m\u001b[0m\n",
      "\u001b[0;31mFileNotFoundError\u001b[0m: [Errno 2] No such file or directory: 'file.txt'"
     ]
    }
   ],
   "source": [
    "file=open('file.txt')\n",
    "#cont=file.read()\n",
    "print(file.read(5))\n",
    "#print(cont)\n",
    "file.close()"
   ]
  },
  {
   "cell_type": "markdown",
   "metadata": {},
   "source": [
    "# Library function"
   ]
  },
  {
   "cell_type": "code",
   "execution_count": null,
   "metadata": {},
   "outputs": [],
   "source": [
    "#Length of a string using library function\n",
    "c=input(\"input a string: \")\n",
    "print(c)\n",
    "print(\"Length of the string:'\",c,\"':=\",len(c))"
   ]
  },
  {
   "cell_type": "code",
   "execution_count": null,
   "metadata": {},
   "outputs": [],
   "source": [
    "# using library function max()\n",
    "a=float(input(\"Enter 1st no: \"))\n",
    "b=float(input(\"Enter 2nd no: \"))\n",
    "c=float(input(\"Enter 3rd no: \"))\n",
    "\n",
    "print(\"Greatest no among %f %f %f is %f\"%(a,b,c,max(a,b,c)))"
   ]
  },
  {
   "cell_type": "markdown",
   "metadata": {},
   "source": [
    "## Reference:\n",
    "* [A short course in Python for astronomers by Neal Jacksons](http://www.jb.man.ac.uk/~njj/plan.pdf)\n",
    "* An execellent course for beginners on basics of python [Data analysis with python zero to pandas](https://jovian.ai/learn/data-analysis-with-python-zero-to-pandas)\n",
    "## Other references:\n",
    "* ([source](https://www.geeksforgeeks.org/disadvantages-of-python/)) "
   ]
  },
  {
   "cell_type": "code",
   "execution_count": null,
   "metadata": {},
   "outputs": [],
   "source": []
  }
 ],
 "metadata": {
  "kernelspec": {
   "display_name": "Python 3",
   "language": "python",
   "name": "python3"
  }
 },
 "nbformat": 4,
 "nbformat_minor": 2
}
