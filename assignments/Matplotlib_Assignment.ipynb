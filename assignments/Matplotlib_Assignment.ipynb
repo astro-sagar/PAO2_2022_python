{
 "cells": [
  {
   "cell_type": "markdown",
   "metadata": {},
   "source": [
    "# Fitting a function to the radio galaxy spectrum."
   ]
  },
  {
   "cell_type": "markdown",
   "metadata": {},
   "source": [
    "# Question 1\n",
    "\n",
    "For the given data (please send me email sagar.sethi[at].doctoral.uj.edu.pl, I will provide you the data via email) The data contains flux frequency and several other parameters of a radio galaxy. The data will look like as following\n",
    "\n",
    "```\n",
    "Name\tFreq.\tS\terrS\tRef.\tModel Fit\n",
    "RG-1\t38\t5155\t520\t3\t5253.9\n",
    "RG-1\t151\t1520\t170\t110\t1472.6\n",
    "RG-1\t151\t1495\t170\t113\t1472.6\n",
    "RG-1\t325\t623\t56\t26\t672.8\n",
    "RG-1\t327\t750\t80\t110\t668.8\n",
    "RG-1\t1400\t143\t8\t49\t139.8\n",
    "RG-1\t1425\t130\t7\t113\t137\n",
    "RG-1\t1465\t130\t5\t110\t132.9\n",
    "RG-1\t4850\t35\t4\t113\t35.1\n",
    "RG-1\t4860\t34\t4\t113\t35\n",
    "RG-1\t5000\t28\t3\t110\t33.9\n",
    "RG-1\t10550\t13\t2\t113\t14.6\n",
    "```"
   ]
  },
  {
   "cell_type": "markdown",
   "metadata": {},
   "source": [
    "## read the data using pandas."
   ]
  },
  {
   "cell_type": "code",
   "execution_count": 9,
   "metadata": {},
   "outputs": [],
   "source": [
    "# Write your code here"
   ]
  },
  {
   "cell_type": "markdown",
   "metadata": {},
   "source": [
    "# Fit the following functions to the data\n",
    "\n",
    "Where $S_{\\nu}$ = Integrated flux (S) \n",
    "$\\nu$ = Frequency"
   ]
  },
  {
   "cell_type": "markdown",
   "metadata": {},
   "source": [
    "# Function 1\n",
    "### $\\rm log S_{\\nu}= A + B \\times log \\nu$"
   ]
  },
  {
   "cell_type": "code",
   "execution_count": 10,
   "metadata": {},
   "outputs": [],
   "source": [
    "# Write your code here"
   ]
  },
  {
   "cell_type": "markdown",
   "metadata": {},
   "source": [
    "# Function 2\n",
    "### $\\rm log S_{\\nu}= A + B \\times log \\nu^2 + C \\times log \\nu$"
   ]
  },
  {
   "cell_type": "code",
   "execution_count": 11,
   "metadata": {},
   "outputs": [],
   "source": [
    "# Write your code here"
   ]
  },
  {
   "cell_type": "markdown",
   "metadata": {},
   "source": [
    "# Function 3\n",
    "### $\\rm log S_{\\nu}= A + B \\times log \\nu + C\\times e^{+x}$"
   ]
  },
  {
   "cell_type": "code",
   "execution_count": 12,
   "metadata": {},
   "outputs": [],
   "source": [
    "# Write your code here"
   ]
  },
  {
   "cell_type": "markdown",
   "metadata": {},
   "source": [
    "# Function 4\n",
    "### $\\rm log S_{\\nu}= A + B \\times log \\nu + C \\times e^{+x}$"
   ]
  },
  {
   "cell_type": "code",
   "execution_count": 13,
   "metadata": {},
   "outputs": [],
   "source": [
    "# Write your code here"
   ]
  },
  {
   "cell_type": "markdown",
   "metadata": {},
   "source": [
    "# Question 2.(Catalogue analysis)\n",
    "\n",
    "A simple version of the FIRST catalogue (Becker et al. 1995, a catalogue of radio sources at\n",
    "20cm made with the VLA) can be found on github page [Part_of_FIRST_catalog_14dec17.csv](https://github.com/sagar-sethi/PAO2_2022_python). Its columns for each source are: right ascension, declination, peak flux, total flux, major axis of fitted component (in arcseconds), minor axis (if the component is resolved, otherwise this field is 0.0), and component position angle.\n",
    "\n",
    "> From the FIRST catalogue, read the data using either pandas or numpy. \n",
    "Make histogram plots of  peak flux and total flux. Also please comment about the histogram plots."
   ]
  },
  {
   "cell_type": "code",
   "execution_count": 14,
   "metadata": {},
   "outputs": [],
   "source": [
    "# Write your code here"
   ]
  },
  {
   "cell_type": "code",
   "execution_count": null,
   "metadata": {},
   "outputs": [],
   "source": []
  }
 ],
 "metadata": {
  "kernelspec": {
   "display_name": "Python 3",
   "language": "python",
   "name": "python3"
  },
  "language_info": {
   "codemirror_mode": {
    "name": "ipython",
    "version": 3
   },
   "file_extension": ".py",
   "mimetype": "text/x-python",
   "name": "python",
   "nbconvert_exporter": "python",
   "pygments_lexer": "ipython3",
   "version": "3.7.3"
  }
 },
 "nbformat": 4,
 "nbformat_minor": 2
}
